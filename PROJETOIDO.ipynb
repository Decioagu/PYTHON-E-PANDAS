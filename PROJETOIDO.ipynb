{
  "nbformat": 4,
  "nbformat_minor": 0,
  "metadata": {
    "colab": {
      "name": "PROJETOIDO.ipynb",
      "provenance": [],
      "collapsed_sections": []
    },
    "kernelspec": {
      "name": "python3",
      "display_name": "Python 3"
    },
    "language_info": {
      "name": "python"
    }
  },
  "cells": [
    {
      "cell_type": "code",
      "metadata": {
        "id": "WF2uN76xJMDc"
      },
      "source": [
        "#Importando as bibliotecas\n",
        "import pandas as pd\n",
        "import matplotlib.pyplot as plt"
      ],
      "execution_count": 1,
      "outputs": []
    },
    {
      "cell_type": "code",
      "metadata": {
        "id": "3hPfXmB3OIHJ"
      },
      "source": [
        "#Upload do arquivo\n",
        "df = pd.read_excel(\"/content/drive/MyDrive/Colab Notebooks/AdventureWorks.xlsx\")"
      ],
      "execution_count": 2,
      "outputs": []
    },
    {
      "cell_type": "code",
      "metadata": {
        "colab": {
          "base_uri": "https://localhost:8080/",
          "height": 476
        },
        "id": "_bXNMmS4Q66j",
        "outputId": "ed4a2d14-ad53-4e7c-fb1d-c3fbd4cc0625"
      },
      "source": [
        "#Visualizando as 5 primeiras linhas\n",
        "df.head()"
      ],
      "execution_count": 3,
      "outputs": [
        {
          "output_type": "execute_result",
          "data": {
            "text/html": [
              "<div>\n",
              "<style scoped>\n",
              "    .dataframe tbody tr th:only-of-type {\n",
              "        vertical-align: middle;\n",
              "    }\n",
              "\n",
              "    .dataframe tbody tr th {\n",
              "        vertical-align: top;\n",
              "    }\n",
              "\n",
              "    .dataframe thead th {\n",
              "        text-align: right;\n",
              "    }\n",
              "</style>\n",
              "<table border=\"1\" class=\"dataframe\">\n",
              "  <thead>\n",
              "    <tr style=\"text-align: right;\">\n",
              "      <th></th>\n",
              "      <th>Data Venda</th>\n",
              "      <th>Data Envio</th>\n",
              "      <th>ID Loja</th>\n",
              "      <th>ID Produto</th>\n",
              "      <th>ID Cliente</th>\n",
              "      <th>No. Venda</th>\n",
              "      <th>Custo Unitário</th>\n",
              "      <th>Preço Unitário</th>\n",
              "      <th>Quantidade</th>\n",
              "      <th>Valor Desconto</th>\n",
              "      <th>Valor Venda</th>\n",
              "      <th>Produto</th>\n",
              "      <th>Fabricante</th>\n",
              "      <th>Marca</th>\n",
              "      <th>Classe</th>\n",
              "      <th>Cor</th>\n",
              "    </tr>\n",
              "  </thead>\n",
              "  <tbody>\n",
              "    <tr>\n",
              "      <th>0</th>\n",
              "      <td>2008-05-09</td>\n",
              "      <td>2008-05-29</td>\n",
              "      <td>199</td>\n",
              "      <td>384</td>\n",
              "      <td>18839</td>\n",
              "      <td>200805093CS607</td>\n",
              "      <td>348.58</td>\n",
              "      <td>758.0</td>\n",
              "      <td>6</td>\n",
              "      <td>0.0</td>\n",
              "      <td>4548.0</td>\n",
              "      <td>Adventure Works Laptop15.4W M1548 Red</td>\n",
              "      <td>Adventure Works</td>\n",
              "      <td>Adventure Works</td>\n",
              "      <td>Regular</td>\n",
              "      <td>Red</td>\n",
              "    </tr>\n",
              "    <tr>\n",
              "      <th>1</th>\n",
              "      <td>2008-05-12</td>\n",
              "      <td>2008-05-17</td>\n",
              "      <td>306</td>\n",
              "      <td>384</td>\n",
              "      <td>19051</td>\n",
              "      <td>200805123CS567</td>\n",
              "      <td>348.58</td>\n",
              "      <td>758.0</td>\n",
              "      <td>6</td>\n",
              "      <td>0.0</td>\n",
              "      <td>4548.0</td>\n",
              "      <td>Adventure Works Laptop15.4W M1548 Red</td>\n",
              "      <td>Adventure Works</td>\n",
              "      <td>Adventure Works</td>\n",
              "      <td>Regular</td>\n",
              "      <td>Red</td>\n",
              "    </tr>\n",
              "    <tr>\n",
              "      <th>2</th>\n",
              "      <td>2008-05-14</td>\n",
              "      <td>2008-05-20</td>\n",
              "      <td>306</td>\n",
              "      <td>384</td>\n",
              "      <td>19052</td>\n",
              "      <td>200805143CS576</td>\n",
              "      <td>348.58</td>\n",
              "      <td>758.0</td>\n",
              "      <td>6</td>\n",
              "      <td>0.0</td>\n",
              "      <td>4548.0</td>\n",
              "      <td>Adventure Works Laptop15.4W M1548 Red</td>\n",
              "      <td>Adventure Works</td>\n",
              "      <td>Adventure Works</td>\n",
              "      <td>Regular</td>\n",
              "      <td>Red</td>\n",
              "    </tr>\n",
              "    <tr>\n",
              "      <th>3</th>\n",
              "      <td>2008-05-21</td>\n",
              "      <td>2008-05-27</td>\n",
              "      <td>306</td>\n",
              "      <td>384</td>\n",
              "      <td>19052</td>\n",
              "      <td>200805213CS576</td>\n",
              "      <td>348.58</td>\n",
              "      <td>758.0</td>\n",
              "      <td>6</td>\n",
              "      <td>0.0</td>\n",
              "      <td>4548.0</td>\n",
              "      <td>Adventure Works Laptop15.4W M1548 Red</td>\n",
              "      <td>Adventure Works</td>\n",
              "      <td>Adventure Works</td>\n",
              "      <td>Regular</td>\n",
              "      <td>Red</td>\n",
              "    </tr>\n",
              "    <tr>\n",
              "      <th>4</th>\n",
              "      <td>2008-06-20</td>\n",
              "      <td>2008-06-27</td>\n",
              "      <td>306</td>\n",
              "      <td>384</td>\n",
              "      <td>19053</td>\n",
              "      <td>200806203CS586</td>\n",
              "      <td>348.58</td>\n",
              "      <td>758.0</td>\n",
              "      <td>6</td>\n",
              "      <td>0.0</td>\n",
              "      <td>4548.0</td>\n",
              "      <td>Adventure Works Laptop15.4W M1548 Red</td>\n",
              "      <td>Adventure Works</td>\n",
              "      <td>Adventure Works</td>\n",
              "      <td>Regular</td>\n",
              "      <td>Red</td>\n",
              "    </tr>\n",
              "  </tbody>\n",
              "</table>\n",
              "</div>"
            ],
            "text/plain": [
              "  Data Venda Data Envio  ID Loja  ...            Marca   Classe  Cor\n",
              "0 2008-05-09 2008-05-29      199  ...  Adventure Works  Regular  Red\n",
              "1 2008-05-12 2008-05-17      306  ...  Adventure Works  Regular  Red\n",
              "2 2008-05-14 2008-05-20      306  ...  Adventure Works  Regular  Red\n",
              "3 2008-05-21 2008-05-27      306  ...  Adventure Works  Regular  Red\n",
              "4 2008-06-20 2008-06-27      306  ...  Adventure Works  Regular  Red\n",
              "\n",
              "[5 rows x 16 columns]"
            ]
          },
          "metadata": {},
          "execution_count": 3
        }
      ]
    },
    {
      "cell_type": "code",
      "metadata": {
        "colab": {
          "base_uri": "https://localhost:8080/"
        },
        "id": "7tLGJNGARjlq",
        "outputId": "222dc21e-97f4-48a3-9102-bdcc893cfcc3"
      },
      "source": [
        "#Verificando os tipos de dados\n",
        "df.dtypes"
      ],
      "execution_count": 4,
      "outputs": [
        {
          "output_type": "execute_result",
          "data": {
            "text/plain": [
              "Data Venda        datetime64[ns]\n",
              "Data Envio        datetime64[ns]\n",
              "ID Loja                    int64\n",
              "ID Produto                 int64\n",
              "ID Cliente                 int64\n",
              "No. Venda                 object\n",
              "Custo Unitário           float64\n",
              "Preço Unitário           float64\n",
              "Quantidade                 int64\n",
              "Valor Desconto           float64\n",
              "Valor Venda              float64\n",
              "Produto                   object\n",
              "Fabricante                object\n",
              "Marca                     object\n",
              "Classe                    object\n",
              "Cor                       object\n",
              "dtype: object"
            ]
          },
          "metadata": {},
          "execution_count": 4
        }
      ]
    },
    {
      "cell_type": "code",
      "metadata": {
        "colab": {
          "base_uri": "https://localhost:8080/"
        },
        "id": "2rzRRQmwIlbj",
        "outputId": "3e012738-8bf4-4873-ecca-5eb47444cd2f"
      },
      "source": [
        "#Verificando se temos dados faltantes (nulos)\n",
        "df.isnull().sum()"
      ],
      "execution_count": 5,
      "outputs": [
        {
          "output_type": "execute_result",
          "data": {
            "text/plain": [
              "Data Venda        0\n",
              "Data Envio        0\n",
              "ID Loja           0\n",
              "ID Produto        0\n",
              "ID Cliente        0\n",
              "No. Venda         0\n",
              "Custo Unitário    0\n",
              "Preço Unitário    0\n",
              "Quantidade        0\n",
              "Valor Desconto    0\n",
              "Valor Venda       0\n",
              "Produto           0\n",
              "Fabricante        0\n",
              "Marca             0\n",
              "Classe            0\n",
              "Cor               0\n",
              "dtype: int64"
            ]
          },
          "metadata": {},
          "execution_count": 5
        }
      ]
    },
    {
      "cell_type": "code",
      "metadata": {
        "colab": {
          "base_uri": "https://localhost:8080/"
        },
        "id": "tH2OQcuOg5nJ",
        "outputId": "1bf33120-d955-4086-ff5d-c763d507b1cb"
      },
      "source": [
        "#Quantidade de linhas e colunas\n",
        "df.shape"
      ],
      "execution_count": 6,
      "outputs": [
        {
          "output_type": "execute_result",
          "data": {
            "text/plain": [
              "(904, 16)"
            ]
          },
          "metadata": {},
          "execution_count": 6
        }
      ]
    },
    {
      "cell_type": "code",
      "metadata": {
        "colab": {
          "base_uri": "https://localhost:8080/"
        },
        "id": "GiFBbPEzw1V4",
        "outputId": "89741c11-f26e-421b-e016-1322fa67861d"
      },
      "source": [
        "#Nome das colunas (índice)\n",
        "df.columns"
      ],
      "execution_count": 7,
      "outputs": [
        {
          "output_type": "execute_result",
          "data": {
            "text/plain": [
              "Index(['Data Venda', 'Data Envio', 'ID Loja', 'ID Produto', 'ID Cliente',\n",
              "       'No. Venda', 'Custo Unitário', 'Preço Unitário', 'Quantidade',\n",
              "       'Valor Desconto', 'Valor Venda', 'Produto', 'Fabricante', 'Marca',\n",
              "       'Classe', 'Cor'],\n",
              "      dtype='object')"
            ]
          },
          "metadata": {},
          "execution_count": 7
        }
      ]
    },
    {
      "cell_type": "code",
      "metadata": {
        "id": "sGAAD7URURlG"
      },
      "source": [
        "#Deletando colunas indesejadas\n",
        "df.drop(['ID Produto','ID Cliente','No. Venda', 'Fabricante', 'Marca', 'Classe', 'Cor'], axis=1, inplace=True)"
      ],
      "execution_count": 8,
      "outputs": []
    },
    {
      "cell_type": "code",
      "metadata": {
        "colab": {
          "base_uri": "https://localhost:8080/"
        },
        "id": "HVRPyNIoSFaU",
        "outputId": "a86cf787-5798-4b17-990e-239fb41e53dc"
      },
      "source": [
        "#Nome das colunas\n",
        "df.columns"
      ],
      "execution_count": 9,
      "outputs": [
        {
          "output_type": "execute_result",
          "data": {
            "text/plain": [
              "Index(['Data Venda', 'Data Envio', 'ID Loja', 'Custo Unitário',\n",
              "       'Preço Unitário', 'Quantidade', 'Valor Desconto', 'Valor Venda',\n",
              "       'Produto'],\n",
              "      dtype='object')"
            ]
          },
          "metadata": {},
          "execution_count": 9
        }
      ]
    },
    {
      "cell_type": "code",
      "metadata": {
        "colab": {
          "base_uri": "https://localhost:8080/"
        },
        "id": "7Bw7fEu5g3-3",
        "outputId": "4d506cd1-0d4e-4972-80c3-a7dc7301c363"
      },
      "source": [
        "#Quantidade de linhas e colunas\n",
        "df.shape"
      ],
      "execution_count": 10,
      "outputs": [
        {
          "output_type": "execute_result",
          "data": {
            "text/plain": [
              "(904, 9)"
            ]
          },
          "metadata": {},
          "execution_count": 10
        }
      ]
    },
    {
      "cell_type": "code",
      "metadata": {
        "colab": {
          "base_uri": "https://localhost:8080/",
          "height": 204
        },
        "id": "jejnslmiOZFl",
        "outputId": "beffbd8c-b1b2-4c03-a6c0-b0380355b618"
      },
      "source": [
        "#Visualizando as 5 primeiras linhas\n",
        "df.head()"
      ],
      "execution_count": 11,
      "outputs": [
        {
          "output_type": "execute_result",
          "data": {
            "text/html": [
              "<div>\n",
              "<style scoped>\n",
              "    .dataframe tbody tr th:only-of-type {\n",
              "        vertical-align: middle;\n",
              "    }\n",
              "\n",
              "    .dataframe tbody tr th {\n",
              "        vertical-align: top;\n",
              "    }\n",
              "\n",
              "    .dataframe thead th {\n",
              "        text-align: right;\n",
              "    }\n",
              "</style>\n",
              "<table border=\"1\" class=\"dataframe\">\n",
              "  <thead>\n",
              "    <tr style=\"text-align: right;\">\n",
              "      <th></th>\n",
              "      <th>Data Venda</th>\n",
              "      <th>Data Envio</th>\n",
              "      <th>ID Loja</th>\n",
              "      <th>Custo Unitário</th>\n",
              "      <th>Preço Unitário</th>\n",
              "      <th>Quantidade</th>\n",
              "      <th>Valor Desconto</th>\n",
              "      <th>Valor Venda</th>\n",
              "      <th>Produto</th>\n",
              "    </tr>\n",
              "  </thead>\n",
              "  <tbody>\n",
              "    <tr>\n",
              "      <th>0</th>\n",
              "      <td>2008-05-09</td>\n",
              "      <td>2008-05-29</td>\n",
              "      <td>199</td>\n",
              "      <td>348.58</td>\n",
              "      <td>758.0</td>\n",
              "      <td>6</td>\n",
              "      <td>0.0</td>\n",
              "      <td>4548.0</td>\n",
              "      <td>Adventure Works Laptop15.4W M1548 Red</td>\n",
              "    </tr>\n",
              "    <tr>\n",
              "      <th>1</th>\n",
              "      <td>2008-05-12</td>\n",
              "      <td>2008-05-17</td>\n",
              "      <td>306</td>\n",
              "      <td>348.58</td>\n",
              "      <td>758.0</td>\n",
              "      <td>6</td>\n",
              "      <td>0.0</td>\n",
              "      <td>4548.0</td>\n",
              "      <td>Adventure Works Laptop15.4W M1548 Red</td>\n",
              "    </tr>\n",
              "    <tr>\n",
              "      <th>2</th>\n",
              "      <td>2008-05-14</td>\n",
              "      <td>2008-05-20</td>\n",
              "      <td>306</td>\n",
              "      <td>348.58</td>\n",
              "      <td>758.0</td>\n",
              "      <td>6</td>\n",
              "      <td>0.0</td>\n",
              "      <td>4548.0</td>\n",
              "      <td>Adventure Works Laptop15.4W M1548 Red</td>\n",
              "    </tr>\n",
              "    <tr>\n",
              "      <th>3</th>\n",
              "      <td>2008-05-21</td>\n",
              "      <td>2008-05-27</td>\n",
              "      <td>306</td>\n",
              "      <td>348.58</td>\n",
              "      <td>758.0</td>\n",
              "      <td>6</td>\n",
              "      <td>0.0</td>\n",
              "      <td>4548.0</td>\n",
              "      <td>Adventure Works Laptop15.4W M1548 Red</td>\n",
              "    </tr>\n",
              "    <tr>\n",
              "      <th>4</th>\n",
              "      <td>2008-06-20</td>\n",
              "      <td>2008-06-27</td>\n",
              "      <td>306</td>\n",
              "      <td>348.58</td>\n",
              "      <td>758.0</td>\n",
              "      <td>6</td>\n",
              "      <td>0.0</td>\n",
              "      <td>4548.0</td>\n",
              "      <td>Adventure Works Laptop15.4W M1548 Red</td>\n",
              "    </tr>\n",
              "  </tbody>\n",
              "</table>\n",
              "</div>"
            ],
            "text/plain": [
              "  Data Venda Data Envio  ...  Valor Venda                                Produto\n",
              "0 2008-05-09 2008-05-29  ...       4548.0  Adventure Works Laptop15.4W M1548 Red\n",
              "1 2008-05-12 2008-05-17  ...       4548.0  Adventure Works Laptop15.4W M1548 Red\n",
              "2 2008-05-14 2008-05-20  ...       4548.0  Adventure Works Laptop15.4W M1548 Red\n",
              "3 2008-05-21 2008-05-27  ...       4548.0  Adventure Works Laptop15.4W M1548 Red\n",
              "4 2008-06-20 2008-06-27  ...       4548.0  Adventure Works Laptop15.4W M1548 Red\n",
              "\n",
              "[5 rows x 9 columns]"
            ]
          },
          "metadata": {},
          "execution_count": 11
        }
      ]
    },
    {
      "cell_type": "code",
      "metadata": {
        "colab": {
          "base_uri": "https://localhost:8080/"
        },
        "id": "Iz6YqrDtRaC0",
        "outputId": "2e46a31b-cd70-457c-9d43-4f3aadc6826b"
      },
      "source": [
        "#Lista de produto para vendas\n",
        "df[\"Produto\"].unique()"
      ],
      "execution_count": 12,
      "outputs": [
        {
          "output_type": "execute_result",
          "data": {
            "text/plain": [
              "array(['Adventure Works Laptop15.4W M1548 Red',\n",
              "       \"Fabrikam Trendsetter 1/3'' 8.5mm X200 White\",\n",
              "       \"Fabrikam Trendsetter 1/3'' 8.5mm X200 Grey\",\n",
              "       \"Fabrikam Trendsetter 2/3'' 17mm X100 Grey\",\n",
              "       \"Fabrikam Trendsetter 2/3'' 17mm X100 Black\",\n",
              "       \"Fabrikam Trendsetter 1/3'' 8.5mm X200 Black\",\n",
              "       'Adventure Works Laptop15.4W M1548 Black',\n",
              "       'Headphone Adapter for Contoso Phone E130 Silver',\n",
              "       'Headphone Adapter for Contoso Phone E130 White'], dtype=object)"
            ]
          },
          "metadata": {},
          "execution_count": 12
        }
      ]
    },
    {
      "cell_type": "code",
      "metadata": {
        "id": "HjmUKLQDcL0M",
        "colab": {
          "base_uri": "https://localhost:8080/"
        },
        "outputId": "75058c2d-a2b4-4084-91ae-db6e69db8924"
      },
      "source": [
        "#Qual a soma total do desconto?\n",
        "round(df[\"Valor Desconto\"].sum(),2) #Soma de todos os descontos"
      ],
      "execution_count": 13,
      "outputs": [
        {
          "output_type": "execute_result",
          "data": {
            "text/plain": [
              "622967.46"
            ]
          },
          "metadata": {},
          "execution_count": 13
        }
      ]
    },
    {
      "cell_type": "code",
      "metadata": {
        "colab": {
          "base_uri": "https://localhost:8080/"
        },
        "id": "CWgC1y7DKzrs",
        "outputId": "eb492d49-608e-4073-be2e-31b8ea48c27f"
      },
      "source": [
        "#Qual valor Bruto das vendas?\n",
        "(df[\"Preço Unitário\"].mul(df[\"Quantidade\"])).sum() #Soma do (\"Preço Unitário\" * \"Quantidade\")"
      ],
      "execution_count": 14,
      "outputs": [
        {
          "output_type": "execute_result",
          "data": {
            "text/plain": [
              "6607573.6"
            ]
          },
          "metadata": {},
          "execution_count": 14
        }
      ]
    },
    {
      "cell_type": "code",
      "metadata": {
        "colab": {
          "base_uri": "https://localhost:8080/"
        },
        "id": "klxjQDaKpwig",
        "outputId": "43ee4974-e207-48f8-e815-720081cf7c91"
      },
      "source": [
        "#Qual a soma dos valores das vendas?\n",
        "round(df['Valor Venda'].sum(),2)"
      ],
      "execution_count": 15,
      "outputs": [
        {
          "output_type": "execute_result",
          "data": {
            "text/plain": [
              "5984606.14"
            ]
          },
          "metadata": {},
          "execution_count": 15
        }
      ]
    },
    {
      "cell_type": "code",
      "metadata": {
        "colab": {
          "base_uri": "https://localhost:8080/"
        },
        "id": "0wZW-EUBQX2y",
        "outputId": "e5a21520-647a-4050-c016-be8ee4bf06b9"
      },
      "source": [
        "#Analise dos valores => (soma(\"Preço Unitário\" * \"Quantidade\") - soma(\"Valor Desconto\")) é igual soma(\"Valor Vendas\")\n",
        "round((df[\"Preço Unitário\"].mul(df[\"Quantidade\"])).sum() - df[\"Valor Desconto\"].sum(),2) == round(df['Valor Venda'].sum(),2) #Falso ou Verdadeiro"
      ],
      "execution_count": 16,
      "outputs": [
        {
          "output_type": "execute_result",
          "data": {
            "text/plain": [
              "True"
            ]
          },
          "metadata": {},
          "execution_count": 16
        }
      ]
    },
    {
      "cell_type": "code",
      "metadata": {
        "id": "HuOMvC1UXqa6"
      },
      "source": [
        "#Criando coluna \"Custo Total Produto\" no DataFrame => df\n",
        "df[\"Custo Total Produto\"] = round(df[\"Custo Unitário\"].mul(df[\"Quantidade\"]),2)\n",
        "\n"
      ],
      "execution_count": 17,
      "outputs": []
    },
    {
      "cell_type": "code",
      "metadata": {
        "id": "Et_6CVd1XyAE",
        "colab": {
          "base_uri": "https://localhost:8080/"
        },
        "outputId": "9aef0ee8-e28b-4dd1-d51c-4e1fbc7ea3f5"
      },
      "source": [
        "#Criando coluna \"Lucro liquido\" no DataFrame => df\n",
        "df[\"Lucro liquido\"] = round(df[\"Valor Venda\"] - df[\"Custo Unitário\"].mul(df[\"Quantidade\"]),2)\n",
        "df[\"Lucro liquido\"].sum()"
      ],
      "execution_count": 18,
      "outputs": [
        {
          "output_type": "execute_result",
          "data": {
            "text/plain": [
              "3497823.0"
            ]
          },
          "metadata": {},
          "execution_count": 18
        }
      ]
    },
    {
      "cell_type": "code",
      "metadata": {
        "colab": {
          "base_uri": "https://localhost:8080/"
        },
        "id": "ROqedBHceQxc",
        "outputId": "1562997a-2d54-4903-ea0d-470614dfd766"
      },
      "source": [
        "#Verificando os tipos de dados\n",
        "df.dtypes"
      ],
      "execution_count": 19,
      "outputs": [
        {
          "output_type": "execute_result",
          "data": {
            "text/plain": [
              "Data Venda             datetime64[ns]\n",
              "Data Envio             datetime64[ns]\n",
              "ID Loja                         int64\n",
              "Custo Unitário                float64\n",
              "Preço Unitário                float64\n",
              "Quantidade                      int64\n",
              "Valor Desconto                float64\n",
              "Valor Venda                   float64\n",
              "Produto                        object\n",
              "Custo Total Produto           float64\n",
              "Lucro liquido                 float64\n",
              "dtype: object"
            ]
          },
          "metadata": {},
          "execution_count": 19
        }
      ]
    },
    {
      "cell_type": "code",
      "metadata": {
        "id": "4tTCvXI9KgfJ"
      },
      "source": [
        "#Criando coluna \"Tempo Envio\" no DataFrame => df\n",
        "df[\"Tempo Envio\"] = df[\"Data Envio\"] - df[\"Data Venda\"]"
      ],
      "execution_count": 20,
      "outputs": []
    },
    {
      "cell_type": "code",
      "metadata": {
        "colab": {
          "base_uri": "https://localhost:8080/",
          "height": 306
        },
        "id": "C285isLobWLB",
        "outputId": "75a151ac-f004-4cc7-cf49-11faab198010"
      },
      "source": [
        "#Visualizando 5 amostra aleatória\n",
        "df.sample(5)"
      ],
      "execution_count": 21,
      "outputs": [
        {
          "output_type": "execute_result",
          "data": {
            "text/html": [
              "<div>\n",
              "<style scoped>\n",
              "    .dataframe tbody tr th:only-of-type {\n",
              "        vertical-align: middle;\n",
              "    }\n",
              "\n",
              "    .dataframe tbody tr th {\n",
              "        vertical-align: top;\n",
              "    }\n",
              "\n",
              "    .dataframe thead th {\n",
              "        text-align: right;\n",
              "    }\n",
              "</style>\n",
              "<table border=\"1\" class=\"dataframe\">\n",
              "  <thead>\n",
              "    <tr style=\"text-align: right;\">\n",
              "      <th></th>\n",
              "      <th>Data Venda</th>\n",
              "      <th>Data Envio</th>\n",
              "      <th>ID Loja</th>\n",
              "      <th>Custo Unitário</th>\n",
              "      <th>Preço Unitário</th>\n",
              "      <th>Quantidade</th>\n",
              "      <th>Valor Desconto</th>\n",
              "      <th>Valor Venda</th>\n",
              "      <th>Produto</th>\n",
              "      <th>Custo Total Produto</th>\n",
              "      <th>Lucro liquido</th>\n",
              "      <th>Tempo Envio</th>\n",
              "    </tr>\n",
              "  </thead>\n",
              "  <tbody>\n",
              "    <tr>\n",
              "      <th>168</th>\n",
              "      <td>2008-10-11</td>\n",
              "      <td>2008-10-21</td>\n",
              "      <td>307</td>\n",
              "      <td>330.66</td>\n",
              "      <td>998.0</td>\n",
              "      <td>12</td>\n",
              "      <td>0.0</td>\n",
              "      <td>11976.0</td>\n",
              "      <td>Fabrikam Trendsetter 1/3'' 8.5mm X200 Grey</td>\n",
              "      <td>3967.92</td>\n",
              "      <td>8008.08</td>\n",
              "      <td>10 days</td>\n",
              "    </tr>\n",
              "    <tr>\n",
              "      <th>840</th>\n",
              "      <td>2008-12-23</td>\n",
              "      <td>2008-12-28</td>\n",
              "      <td>307</td>\n",
              "      <td>324.69</td>\n",
              "      <td>980.0</td>\n",
              "      <td>6</td>\n",
              "      <td>882.0</td>\n",
              "      <td>4998.0</td>\n",
              "      <td>Fabrikam Trendsetter 2/3'' 17mm X100 Grey</td>\n",
              "      <td>1948.14</td>\n",
              "      <td>3049.86</td>\n",
              "      <td>5 days</td>\n",
              "    </tr>\n",
              "    <tr>\n",
              "      <th>419</th>\n",
              "      <td>2008-12-25</td>\n",
              "      <td>2008-12-30</td>\n",
              "      <td>307</td>\n",
              "      <td>330.66</td>\n",
              "      <td>998.0</td>\n",
              "      <td>7</td>\n",
              "      <td>1047.9</td>\n",
              "      <td>5938.1</td>\n",
              "      <td>Fabrikam Trendsetter 1/3'' 8.5mm X200 White</td>\n",
              "      <td>2314.62</td>\n",
              "      <td>3623.48</td>\n",
              "      <td>5 days</td>\n",
              "    </tr>\n",
              "    <tr>\n",
              "      <th>823</th>\n",
              "      <td>2009-02-03</td>\n",
              "      <td>2009-02-08</td>\n",
              "      <td>199</td>\n",
              "      <td>330.66</td>\n",
              "      <td>998.0</td>\n",
              "      <td>6</td>\n",
              "      <td>299.4</td>\n",
              "      <td>5688.6</td>\n",
              "      <td>Fabrikam Trendsetter 1/3'' 8.5mm X200 Grey</td>\n",
              "      <td>1983.96</td>\n",
              "      <td>3704.64</td>\n",
              "      <td>5 days</td>\n",
              "    </tr>\n",
              "    <tr>\n",
              "      <th>545</th>\n",
              "      <td>2008-12-23</td>\n",
              "      <td>2008-12-27</td>\n",
              "      <td>306</td>\n",
              "      <td>348.58</td>\n",
              "      <td>758.0</td>\n",
              "      <td>4</td>\n",
              "      <td>606.4</td>\n",
              "      <td>2425.6</td>\n",
              "      <td>Adventure Works Laptop15.4W M1548 Red</td>\n",
              "      <td>1394.32</td>\n",
              "      <td>1031.28</td>\n",
              "      <td>4 days</td>\n",
              "    </tr>\n",
              "  </tbody>\n",
              "</table>\n",
              "</div>"
            ],
            "text/plain": [
              "    Data Venda Data Envio  ...  Lucro liquido  Tempo Envio\n",
              "168 2008-10-11 2008-10-21  ...        8008.08      10 days\n",
              "840 2008-12-23 2008-12-28  ...        3049.86       5 days\n",
              "419 2008-12-25 2008-12-30  ...        3623.48       5 days\n",
              "823 2009-02-03 2009-02-08  ...        3704.64       5 days\n",
              "545 2008-12-23 2008-12-27  ...        1031.28       4 days\n",
              "\n",
              "[5 rows x 12 columns]"
            ]
          },
          "metadata": {},
          "execution_count": 21
        }
      ]
    },
    {
      "cell_type": "code",
      "metadata": {
        "colab": {
          "base_uri": "https://localhost:8080/"
        },
        "id": "N7x-B-cGJxp-",
        "outputId": "489a23ca-c76d-4bb3-887a-800ed61e560a"
      },
      "source": [
        "#Ver Index => nome das colunas (índice)\n",
        "df.columns"
      ],
      "execution_count": 22,
      "outputs": [
        {
          "output_type": "execute_result",
          "data": {
            "text/plain": [
              "Index(['Data Venda', 'Data Envio', 'ID Loja', 'Custo Unitário',\n",
              "       'Preço Unitário', 'Quantidade', 'Valor Desconto', 'Valor Venda',\n",
              "       'Produto', 'Custo Total Produto', 'Lucro liquido', 'Tempo Envio'],\n",
              "      dtype='object')"
            ]
          },
          "metadata": {},
          "execution_count": 22
        }
      ]
    },
    {
      "cell_type": "code",
      "metadata": {
        "id": "dsPVARbcODvb"
      },
      "source": [
        "#Reposicionar colunas (índice)\n",
        "df = df.reindex(columns=['Data Venda', 'Data Envio', 'Tempo Envio', 'ID Loja', 'Custo Unitário', 'Preço Unitário', 'Quantidade', 'Custo Total Produto',\n",
        "                         'Valor Desconto', 'Valor Venda','Lucro liquido', 'Produto']) #Melhorar apresentação das colunas\n"
      ],
      "execution_count": 23,
      "outputs": []
    },
    {
      "cell_type": "code",
      "metadata": {
        "colab": {
          "base_uri": "https://localhost:8080/",
          "height": 210
        },
        "id": "-RsnW53xQdhH",
        "outputId": "bf6873cd-4c68-4836-8542-ca1ded750fff"
      },
      "source": [
        "#Visualizando as 3 ultinas linhas\n",
        "df.tail(3)"
      ],
      "execution_count": 24,
      "outputs": [
        {
          "output_type": "execute_result",
          "data": {
            "text/html": [
              "<div>\n",
              "<style scoped>\n",
              "    .dataframe tbody tr th:only-of-type {\n",
              "        vertical-align: middle;\n",
              "    }\n",
              "\n",
              "    .dataframe tbody tr th {\n",
              "        vertical-align: top;\n",
              "    }\n",
              "\n",
              "    .dataframe thead th {\n",
              "        text-align: right;\n",
              "    }\n",
              "</style>\n",
              "<table border=\"1\" class=\"dataframe\">\n",
              "  <thead>\n",
              "    <tr style=\"text-align: right;\">\n",
              "      <th></th>\n",
              "      <th>Data Venda</th>\n",
              "      <th>Data Envio</th>\n",
              "      <th>Tempo Envio</th>\n",
              "      <th>ID Loja</th>\n",
              "      <th>Custo Unitário</th>\n",
              "      <th>Preço Unitário</th>\n",
              "      <th>Quantidade</th>\n",
              "      <th>Custo Total Produto</th>\n",
              "      <th>Valor Desconto</th>\n",
              "      <th>Valor Venda</th>\n",
              "      <th>Lucro liquido</th>\n",
              "      <th>Produto</th>\n",
              "    </tr>\n",
              "  </thead>\n",
              "  <tbody>\n",
              "    <tr>\n",
              "      <th>901</th>\n",
              "      <td>2008-12-11</td>\n",
              "      <td>2008-12-15</td>\n",
              "      <td>4 days</td>\n",
              "      <td>306</td>\n",
              "      <td>324.69</td>\n",
              "      <td>980.0</td>\n",
              "      <td>6</td>\n",
              "      <td>1948.14</td>\n",
              "      <td>1176.0</td>\n",
              "      <td>4704.0</td>\n",
              "      <td>2755.86</td>\n",
              "      <td>Fabrikam Trendsetter 2/3'' 17mm X100 Black</td>\n",
              "    </tr>\n",
              "    <tr>\n",
              "      <th>902</th>\n",
              "      <td>2008-12-17</td>\n",
              "      <td>2008-12-21</td>\n",
              "      <td>4 days</td>\n",
              "      <td>306</td>\n",
              "      <td>330.99</td>\n",
              "      <td>999.0</td>\n",
              "      <td>6</td>\n",
              "      <td>1985.94</td>\n",
              "      <td>1198.8</td>\n",
              "      <td>4795.2</td>\n",
              "      <td>2809.26</td>\n",
              "      <td>Fabrikam Trendsetter 1/3'' 8.5mm X200 Black</td>\n",
              "    </tr>\n",
              "    <tr>\n",
              "      <th>903</th>\n",
              "      <td>2008-12-21</td>\n",
              "      <td>2008-12-25</td>\n",
              "      <td>4 days</td>\n",
              "      <td>306</td>\n",
              "      <td>324.69</td>\n",
              "      <td>980.0</td>\n",
              "      <td>6</td>\n",
              "      <td>1948.14</td>\n",
              "      <td>1176.0</td>\n",
              "      <td>4704.0</td>\n",
              "      <td>2755.86</td>\n",
              "      <td>Fabrikam Trendsetter 2/3'' 17mm X100 Black</td>\n",
              "    </tr>\n",
              "  </tbody>\n",
              "</table>\n",
              "</div>"
            ],
            "text/plain": [
              "    Data Venda  ...                                      Produto\n",
              "901 2008-12-11  ...   Fabrikam Trendsetter 2/3'' 17mm X100 Black\n",
              "902 2008-12-17  ...  Fabrikam Trendsetter 1/3'' 8.5mm X200 Black\n",
              "903 2008-12-21  ...   Fabrikam Trendsetter 2/3'' 17mm X100 Black\n",
              "\n",
              "[3 rows x 12 columns]"
            ]
          },
          "metadata": {},
          "execution_count": 24
        }
      ]
    },
    {
      "cell_type": "code",
      "metadata": {
        "colab": {
          "base_uri": "https://localhost:8080/"
        },
        "id": "Sxt5ROl_8dv_",
        "outputId": "4cf71d22-b012-4332-9acf-4ef6c34e8aa0"
      },
      "source": [
        "#Contagem das celular para identificar possível valor nulo \"NA\"\n",
        "df.count()"
      ],
      "execution_count": 25,
      "outputs": [
        {
          "output_type": "execute_result",
          "data": {
            "text/plain": [
              "Data Venda             904\n",
              "Data Envio             904\n",
              "Tempo Envio            904\n",
              "ID Loja                904\n",
              "Custo Unitário         904\n",
              "Preço Unitário         904\n",
              "Quantidade             904\n",
              "Custo Total Produto    904\n",
              "Valor Desconto         904\n",
              "Valor Venda            904\n",
              "Lucro liquido          904\n",
              "Produto                904\n",
              "dtype: int64"
            ]
          },
          "metadata": {},
          "execution_count": 25
        }
      ]
    },
    {
      "cell_type": "code",
      "metadata": {
        "colab": {
          "base_uri": "https://localhost:8080/"
        },
        "id": "AX3gJZoFTSSa",
        "outputId": "414a7c1c-bdab-4c56-f775-3629aa074ddd"
      },
      "source": [
        "#Verificando os tipos de dados\n",
        "df.dtypes"
      ],
      "execution_count": 26,
      "outputs": [
        {
          "output_type": "execute_result",
          "data": {
            "text/plain": [
              "Data Venda              datetime64[ns]\n",
              "Data Envio              datetime64[ns]\n",
              "Tempo Envio            timedelta64[ns]\n",
              "ID Loja                          int64\n",
              "Custo Unitário                 float64\n",
              "Preço Unitário                 float64\n",
              "Quantidade                       int64\n",
              "Custo Total Produto            float64\n",
              "Valor Desconto                 float64\n",
              "Valor Venda                    float64\n",
              "Lucro liquido                  float64\n",
              "Produto                         object\n",
              "dtype: object"
            ]
          },
          "metadata": {},
          "execution_count": 26
        }
      ]
    },
    {
      "cell_type": "code",
      "metadata": {
        "id": "SJxe7zyuUqiN"
      },
      "source": [
        "#Atibuir coluna \"Tempo Envio\" novos valores no DataFrame => df \n",
        "df[\"Tempo Envio\"] = (df[\"Data Envio\"] - df[\"Data Venda\"]).dt.days #Eliminando a palavra \"days\""
      ],
      "execution_count": 27,
      "outputs": []
    },
    {
      "cell_type": "code",
      "metadata": {
        "colab": {
          "base_uri": "https://localhost:8080/"
        },
        "id": "v6U18btHW_wL",
        "outputId": "8c9401fe-d40f-417f-c757-556403b6f443"
      },
      "source": [
        "#Alterando tipo coluna \"Tempo Envio\" (timedelta64[ns]) para \"Tempo Envio\" (int64)\n",
        "df[\"Tempo Envio\"].dtypes"
      ],
      "execution_count": 28,
      "outputs": [
        {
          "output_type": "execute_result",
          "data": {
            "text/plain": [
              "dtype('int64')"
            ]
          },
          "metadata": {},
          "execution_count": 28
        }
      ]
    },
    {
      "cell_type": "code",
      "metadata": {
        "colab": {
          "base_uri": "https://localhost:8080/"
        },
        "id": "uG_yOkr2WrEQ",
        "outputId": "848ee258-f489-4766-e2de-0a4ca1aa304e"
      },
      "source": [
        "#Acessar rótulo\n",
        "df.loc[903] #Visualização dos dados da ultima linha"
      ],
      "execution_count": 29,
      "outputs": [
        {
          "output_type": "execute_result",
          "data": {
            "text/plain": [
              "Data Venda                                    2008-12-21 00:00:00\n",
              "Data Envio                                    2008-12-25 00:00:00\n",
              "Tempo Envio                                                     4\n",
              "ID Loja                                                       306\n",
              "Custo Unitário                                             324.69\n",
              "Preço Unitário                                                980\n",
              "Quantidade                                                      6\n",
              "Custo Total Produto                                       1948.14\n",
              "Valor Desconto                                               1176\n",
              "Valor Venda                                                  4704\n",
              "Lucro liquido                                             2755.86\n",
              "Produto                Fabrikam Trendsetter 2/3'' 17mm X100 Black\n",
              "Name: 903, dtype: object"
            ]
          },
          "metadata": {},
          "execution_count": 29
        }
      ]
    },
    {
      "cell_type": "code",
      "metadata": {
        "id": "r9koe8KSuOIe"
      },
      "source": [
        "#Renomear colunas (índice) \n",
        "df = df.rename(columns={\"Tempo Envio\" : \"Tempo Envio (dia)\"}) #Renomear coluna => \"Tempo Envio\" para \"Tempo Envio (dia)\""
      ],
      "execution_count": 30,
      "outputs": []
    },
    {
      "cell_type": "code",
      "metadata": {
        "colab": {
          "base_uri": "https://localhost:8080/",
          "height": 114
        },
        "id": "Cr0EGM5jxp64",
        "outputId": "7f3bed74-451e-49b1-e622-5aaa6da72e58"
      },
      "source": [
        "#Visualização dos dados da ultima linha\n",
        "df.tail(1)"
      ],
      "execution_count": 31,
      "outputs": [
        {
          "output_type": "execute_result",
          "data": {
            "text/html": [
              "<div>\n",
              "<style scoped>\n",
              "    .dataframe tbody tr th:only-of-type {\n",
              "        vertical-align: middle;\n",
              "    }\n",
              "\n",
              "    .dataframe tbody tr th {\n",
              "        vertical-align: top;\n",
              "    }\n",
              "\n",
              "    .dataframe thead th {\n",
              "        text-align: right;\n",
              "    }\n",
              "</style>\n",
              "<table border=\"1\" class=\"dataframe\">\n",
              "  <thead>\n",
              "    <tr style=\"text-align: right;\">\n",
              "      <th></th>\n",
              "      <th>Data Venda</th>\n",
              "      <th>Data Envio</th>\n",
              "      <th>Tempo Envio (dia)</th>\n",
              "      <th>ID Loja</th>\n",
              "      <th>Custo Unitário</th>\n",
              "      <th>Preço Unitário</th>\n",
              "      <th>Quantidade</th>\n",
              "      <th>Custo Total Produto</th>\n",
              "      <th>Valor Desconto</th>\n",
              "      <th>Valor Venda</th>\n",
              "      <th>Lucro liquido</th>\n",
              "      <th>Produto</th>\n",
              "    </tr>\n",
              "  </thead>\n",
              "  <tbody>\n",
              "    <tr>\n",
              "      <th>903</th>\n",
              "      <td>2008-12-21</td>\n",
              "      <td>2008-12-25</td>\n",
              "      <td>4</td>\n",
              "      <td>306</td>\n",
              "      <td>324.69</td>\n",
              "      <td>980.0</td>\n",
              "      <td>6</td>\n",
              "      <td>1948.14</td>\n",
              "      <td>1176.0</td>\n",
              "      <td>4704.0</td>\n",
              "      <td>2755.86</td>\n",
              "      <td>Fabrikam Trendsetter 2/3'' 17mm X100 Black</td>\n",
              "    </tr>\n",
              "  </tbody>\n",
              "</table>\n",
              "</div>"
            ],
            "text/plain": [
              "    Data Venda  ...                                     Produto\n",
              "903 2008-12-21  ...  Fabrikam Trendsetter 2/3'' 17mm X100 Black\n",
              "\n",
              "[1 rows x 12 columns]"
            ]
          },
          "metadata": {},
          "execution_count": 31
        }
      ]
    },
    {
      "cell_type": "code",
      "metadata": {
        "colab": {
          "base_uri": "https://localhost:8080/",
          "height": 235
        },
        "id": "8tPHP12ta2OR",
        "outputId": "fea25362-3f49-4b14-f2a8-a70e3ab1644b"
      },
      "source": [
        "#Tempo mínimo de envio por ano | loja\n",
        "df.groupby([df[\"Data Venda\"].dt.year, \"ID Loja\"])[\"Tempo Envio (dia)\"].min().reset_index() #"
      ],
      "execution_count": 32,
      "outputs": [
        {
          "output_type": "execute_result",
          "data": {
            "text/html": [
              "<div>\n",
              "<style scoped>\n",
              "    .dataframe tbody tr th:only-of-type {\n",
              "        vertical-align: middle;\n",
              "    }\n",
              "\n",
              "    .dataframe tbody tr th {\n",
              "        vertical-align: top;\n",
              "    }\n",
              "\n",
              "    .dataframe thead th {\n",
              "        text-align: right;\n",
              "    }\n",
              "</style>\n",
              "<table border=\"1\" class=\"dataframe\">\n",
              "  <thead>\n",
              "    <tr style=\"text-align: right;\">\n",
              "      <th></th>\n",
              "      <th>Data Venda</th>\n",
              "      <th>ID Loja</th>\n",
              "      <th>Tempo Envio (dia)</th>\n",
              "    </tr>\n",
              "  </thead>\n",
              "  <tbody>\n",
              "    <tr>\n",
              "      <th>0</th>\n",
              "      <td>2008</td>\n",
              "      <td>199</td>\n",
              "      <td>4</td>\n",
              "    </tr>\n",
              "    <tr>\n",
              "      <th>1</th>\n",
              "      <td>2008</td>\n",
              "      <td>306</td>\n",
              "      <td>4</td>\n",
              "    </tr>\n",
              "    <tr>\n",
              "      <th>2</th>\n",
              "      <td>2008</td>\n",
              "      <td>307</td>\n",
              "      <td>4</td>\n",
              "    </tr>\n",
              "    <tr>\n",
              "      <th>3</th>\n",
              "      <td>2009</td>\n",
              "      <td>199</td>\n",
              "      <td>4</td>\n",
              "    </tr>\n",
              "    <tr>\n",
              "      <th>4</th>\n",
              "      <td>2009</td>\n",
              "      <td>306</td>\n",
              "      <td>4</td>\n",
              "    </tr>\n",
              "    <tr>\n",
              "      <th>5</th>\n",
              "      <td>2009</td>\n",
              "      <td>307</td>\n",
              "      <td>4</td>\n",
              "    </tr>\n",
              "  </tbody>\n",
              "</table>\n",
              "</div>"
            ],
            "text/plain": [
              "   Data Venda  ID Loja  Tempo Envio (dia)\n",
              "0        2008      199                  4\n",
              "1        2008      306                  4\n",
              "2        2008      307                  4\n",
              "3        2009      199                  4\n",
              "4        2009      306                  4\n",
              "5        2009      307                  4"
            ]
          },
          "metadata": {},
          "execution_count": 32
        }
      ]
    },
    {
      "cell_type": "code",
      "metadata": {
        "colab": {
          "base_uri": "https://localhost:8080/",
          "height": 235
        },
        "id": "G9h5XronS7Al",
        "outputId": "2c7a4fbc-b699-4423-aaee-c742231e5bfb"
      },
      "source": [
        "#Tempo máximo de envio por ano | loja\n",
        "df.groupby([df[\"Data Venda\"].dt.year, \"ID Loja\"])[\"Tempo Envio (dia)\"].max().reset_index()"
      ],
      "execution_count": 33,
      "outputs": [
        {
          "output_type": "execute_result",
          "data": {
            "text/html": [
              "<div>\n",
              "<style scoped>\n",
              "    .dataframe tbody tr th:only-of-type {\n",
              "        vertical-align: middle;\n",
              "    }\n",
              "\n",
              "    .dataframe tbody tr th {\n",
              "        vertical-align: top;\n",
              "    }\n",
              "\n",
              "    .dataframe thead th {\n",
              "        text-align: right;\n",
              "    }\n",
              "</style>\n",
              "<table border=\"1\" class=\"dataframe\">\n",
              "  <thead>\n",
              "    <tr style=\"text-align: right;\">\n",
              "      <th></th>\n",
              "      <th>Data Venda</th>\n",
              "      <th>ID Loja</th>\n",
              "      <th>Tempo Envio (dia)</th>\n",
              "    </tr>\n",
              "  </thead>\n",
              "  <tbody>\n",
              "    <tr>\n",
              "      <th>0</th>\n",
              "      <td>2008</td>\n",
              "      <td>199</td>\n",
              "      <td>20</td>\n",
              "    </tr>\n",
              "    <tr>\n",
              "      <th>1</th>\n",
              "      <td>2008</td>\n",
              "      <td>306</td>\n",
              "      <td>13</td>\n",
              "    </tr>\n",
              "    <tr>\n",
              "      <th>2</th>\n",
              "      <td>2008</td>\n",
              "      <td>307</td>\n",
              "      <td>13</td>\n",
              "    </tr>\n",
              "    <tr>\n",
              "      <th>3</th>\n",
              "      <td>2009</td>\n",
              "      <td>199</td>\n",
              "      <td>13</td>\n",
              "    </tr>\n",
              "    <tr>\n",
              "      <th>4</th>\n",
              "      <td>2009</td>\n",
              "      <td>306</td>\n",
              "      <td>12</td>\n",
              "    </tr>\n",
              "    <tr>\n",
              "      <th>5</th>\n",
              "      <td>2009</td>\n",
              "      <td>307</td>\n",
              "      <td>13</td>\n",
              "    </tr>\n",
              "  </tbody>\n",
              "</table>\n",
              "</div>"
            ],
            "text/plain": [
              "   Data Venda  ID Loja  Tempo Envio (dia)\n",
              "0        2008      199                 20\n",
              "1        2008      306                 13\n",
              "2        2008      307                 13\n",
              "3        2009      199                 13\n",
              "4        2009      306                 12\n",
              "5        2009      307                 13"
            ]
          },
          "metadata": {},
          "execution_count": 33
        }
      ]
    },
    {
      "cell_type": "code",
      "metadata": {
        "colab": {
          "base_uri": "https://localhost:8080/",
          "height": 111
        },
        "id": "Oe2ZpK6fHFfK",
        "outputId": "fd8af958-87db-4f9c-e76e-93f95a26e60e"
      },
      "source": [
        "#Média do \"Tempo Envio (dia)\"\n",
        "round(df.groupby(df[\"Data Venda\"].dt.year)[\"Tempo Envio (dia)\"].mean().reset_index()) # Comparação dos anos de 2008 e 2009"
      ],
      "execution_count": 34,
      "outputs": [
        {
          "output_type": "execute_result",
          "data": {
            "text/html": [
              "<div>\n",
              "<style scoped>\n",
              "    .dataframe tbody tr th:only-of-type {\n",
              "        vertical-align: middle;\n",
              "    }\n",
              "\n",
              "    .dataframe tbody tr th {\n",
              "        vertical-align: top;\n",
              "    }\n",
              "\n",
              "    .dataframe thead th {\n",
              "        text-align: right;\n",
              "    }\n",
              "</style>\n",
              "<table border=\"1\" class=\"dataframe\">\n",
              "  <thead>\n",
              "    <tr style=\"text-align: right;\">\n",
              "      <th></th>\n",
              "      <th>Data Venda</th>\n",
              "      <th>Tempo Envio (dia)</th>\n",
              "    </tr>\n",
              "  </thead>\n",
              "  <tbody>\n",
              "    <tr>\n",
              "      <th>0</th>\n",
              "      <td>2008</td>\n",
              "      <td>8.0</td>\n",
              "    </tr>\n",
              "    <tr>\n",
              "      <th>1</th>\n",
              "      <td>2009</td>\n",
              "      <td>9.0</td>\n",
              "    </tr>\n",
              "  </tbody>\n",
              "</table>\n",
              "</div>"
            ],
            "text/plain": [
              "   Data Venda  Tempo Envio (dia)\n",
              "0        2008                8.0\n",
              "1        2009                9.0"
            ]
          },
          "metadata": {},
          "execution_count": 34
        }
      ]
    },
    {
      "cell_type": "code",
      "metadata": {
        "colab": {
          "base_uri": "https://localhost:8080/"
        },
        "id": "gGRBtffvlTkg",
        "outputId": "178771b4-5c23-4ec9-f4b2-03bdd81d1219"
      },
      "source": [
        "#Analise estatistica do \"Tempo Envio (dia)\"\n",
        "round(df[\"Tempo Envio (dia)\"].describe(),1)"
      ],
      "execution_count": 35,
      "outputs": [
        {
          "output_type": "execute_result",
          "data": {
            "text/plain": [
              "count    904.0\n",
              "mean       8.5\n",
              "std        3.1\n",
              "min        4.0\n",
              "25%        6.0\n",
              "50%        9.0\n",
              "75%       11.0\n",
              "max       20.0\n",
              "Name: Tempo Envio (dia), dtype: float64"
            ]
          },
          "metadata": {},
          "execution_count": 35
        }
      ]
    },
    {
      "cell_type": "code",
      "metadata": {
        "colab": {
          "base_uri": "https://localhost:8080/",
          "height": 279
        },
        "id": "Rl91lwbClhnM",
        "outputId": "c1dea2fe-9d77-4d38-ba6a-eef7aed62103"
      },
      "source": [
        "#Histograma do \"Tempo Envio (dia)\"\n",
        "plt.hist(df[\"Tempo Envio (dia)\"])\n",
        "plt.xlabel(\"Dias\")\n",
        "plt.ylabel(\"Número de entregas\");"
      ],
      "execution_count": 36,
      "outputs": [
        {
          "output_type": "display_data",
          "data": {
            "image/png": "[encoded data removed]",
            "text/plain": [
              "<Figure size 432x288 with 1 Axes>"
            ]
          },
          "metadata": {
            "needs_background": "light"
          }
        }
      ]
    },
    {
      "cell_type": "code",
      "metadata": {
        "colab": {
          "base_uri": "https://localhost:8080/",
          "height": 278
        },
        "id": "bbyFeCVuHBdp",
        "outputId": "d391bdfc-4e71-4bc2-84c0-1b1ffa2edf9f"
      },
      "source": [
        "#Soma das receitas nos anos 2008 e 2009 por loja\n",
        "df.groupby(\"ID Loja\")[\"Lucro liquido\"].sum().plot.pie(autopct='%.2f%%', title=\"Lucro total por lojas anos 2008 e 2009\")\n",
        "plt.xlabel(\"Loja\")\n",
        "plt.ylabel(\"Lucro liquido\");\n",
        "\n"
      ],
      "execution_count": 37,
      "outputs": [
        {
          "output_type": "display_data",
          "data": {
            "image/png": "[encoded data removed]",
            "text/plain": [
              "<Figure size 432x288 with 1 Axes>"
            ]
          },
          "metadata": {}
        }
      ]
    },
    {
      "cell_type": "code",
      "metadata": {
        "colab": {
          "base_uri": "https://localhost:8080/",
          "height": 142
        },
        "id": "xRiMaMqWZprs",
        "outputId": "10010052-7143-4238-e1f3-c73ad986b3f1"
      },
      "source": [
        "#Qual a soma das receitas por loja?\n",
        "df.groupby(\"ID Loja\")[\"Lucro liquido\"].sum().reset_index()\n"
      ],
      "execution_count": 38,
      "outputs": [
        {
          "output_type": "execute_result",
          "data": {
            "text/html": [
              "<div>\n",
              "<style scoped>\n",
              "    .dataframe tbody tr th:only-of-type {\n",
              "        vertical-align: middle;\n",
              "    }\n",
              "\n",
              "    .dataframe tbody tr th {\n",
              "        vertical-align: top;\n",
              "    }\n",
              "\n",
              "    .dataframe thead th {\n",
              "        text-align: right;\n",
              "    }\n",
              "</style>\n",
              "<table border=\"1\" class=\"dataframe\">\n",
              "  <thead>\n",
              "    <tr style=\"text-align: right;\">\n",
              "      <th></th>\n",
              "      <th>ID Loja</th>\n",
              "      <th>Lucro liquido</th>\n",
              "    </tr>\n",
              "  </thead>\n",
              "  <tbody>\n",
              "    <tr>\n",
              "      <th>0</th>\n",
              "      <td>199</td>\n",
              "      <td>1294718.49</td>\n",
              "    </tr>\n",
              "    <tr>\n",
              "      <th>1</th>\n",
              "      <td>306</td>\n",
              "      <td>1016493.09</td>\n",
              "    </tr>\n",
              "    <tr>\n",
              "      <th>2</th>\n",
              "      <td>307</td>\n",
              "      <td>1186611.42</td>\n",
              "    </tr>\n",
              "  </tbody>\n",
              "</table>\n",
              "</div>"
            ],
            "text/plain": [
              "   ID Loja  Lucro liquido\n",
              "0      199     1294718.49\n",
              "1      306     1016493.09\n",
              "2      307     1186611.42"
            ]
          },
          "metadata": {},
          "execution_count": 38
        }
      ]
    },
    {
      "cell_type": "code",
      "metadata": {
        "colab": {
          "base_uri": "https://localhost:8080/",
          "height": 344
        },
        "id": "XKb4Jj5f9jZ7",
        "outputId": "4e06f069-88fd-4a4c-e739-425514f53652"
      },
      "source": [
        "#Receitas das lojas separadas por ano\n",
        "df.groupby([df[\"Data Venda\"].dt.year, \"ID Loja\"])[\"Lucro liquido\"].sum().plot.bar(color= \"red\", title=\"Lucro das Lojas\")\n",
        "plt.xlabel(\"Ano | Loja\")\n",
        "plt.ylabel(\"Lucro liquido\");\n"
      ],
      "execution_count": 39,
      "outputs": [
        {
          "output_type": "display_data",
          "data": {
            "image/png": "[encoded data removed]",
            "text/plain": [
              "<Figure size 432x288 with 1 Axes>"
            ]
          },
          "metadata": {
            "needs_background": "light"
          }
        }
      ]
    },
    {
      "cell_type": "code",
      "metadata": {
        "colab": {
          "base_uri": "https://localhost:8080/",
          "height": 235
        },
        "id": "aHCbMw-V_02u",
        "outputId": "54be0ad3-aab1-4c23-aca9-8528d3017bf0"
      },
      "source": [
        "#Quais os valores das receitas das lojas separada por ano?\n",
        "df.groupby([df[\"Data Venda\"].dt.year, \"ID Loja\"])[\"Lucro liquido\"].sum().reset_index()\n"
      ],
      "execution_count": 40,
      "outputs": [
        {
          "output_type": "execute_result",
          "data": {
            "text/html": [
              "<div>\n",
              "<style scoped>\n",
              "    .dataframe tbody tr th:only-of-type {\n",
              "        vertical-align: middle;\n",
              "    }\n",
              "\n",
              "    .dataframe tbody tr th {\n",
              "        vertical-align: top;\n",
              "    }\n",
              "\n",
              "    .dataframe thead th {\n",
              "        text-align: right;\n",
              "    }\n",
              "</style>\n",
              "<table border=\"1\" class=\"dataframe\">\n",
              "  <thead>\n",
              "    <tr style=\"text-align: right;\">\n",
              "      <th></th>\n",
              "      <th>Data Venda</th>\n",
              "      <th>ID Loja</th>\n",
              "      <th>Lucro liquido</th>\n",
              "    </tr>\n",
              "  </thead>\n",
              "  <tbody>\n",
              "    <tr>\n",
              "      <th>0</th>\n",
              "      <td>2008</td>\n",
              "      <td>199</td>\n",
              "      <td>738540.76</td>\n",
              "    </tr>\n",
              "    <tr>\n",
              "      <th>1</th>\n",
              "      <td>2008</td>\n",
              "      <td>306</td>\n",
              "      <td>593037.45</td>\n",
              "    </tr>\n",
              "    <tr>\n",
              "      <th>2</th>\n",
              "      <td>2008</td>\n",
              "      <td>307</td>\n",
              "      <td>588499.42</td>\n",
              "    </tr>\n",
              "    <tr>\n",
              "      <th>3</th>\n",
              "      <td>2009</td>\n",
              "      <td>199</td>\n",
              "      <td>556177.73</td>\n",
              "    </tr>\n",
              "    <tr>\n",
              "      <th>4</th>\n",
              "      <td>2009</td>\n",
              "      <td>306</td>\n",
              "      <td>423455.64</td>\n",
              "    </tr>\n",
              "    <tr>\n",
              "      <th>5</th>\n",
              "      <td>2009</td>\n",
              "      <td>307</td>\n",
              "      <td>598112.00</td>\n",
              "    </tr>\n",
              "  </tbody>\n",
              "</table>\n",
              "</div>"
            ],
            "text/plain": [
              "   Data Venda  ID Loja  Lucro liquido\n",
              "0        2008      199      738540.76\n",
              "1        2008      306      593037.45\n",
              "2        2008      307      588499.42\n",
              "3        2009      199      556177.73\n",
              "4        2009      306      423455.64\n",
              "5        2009      307      598112.00"
            ]
          },
          "metadata": {},
          "execution_count": 40
        }
      ]
    },
    {
      "cell_type": "code",
      "metadata": {
        "id": "pwo8O3b5NeDf"
      },
      "source": [
        "#Criando dois DataFrame dividido por ano \n",
        "df_2008 = df[df[\"Data Venda\"].dt.year == 2008]\n",
        "df_2009 = df[df[\"Data Venda\"].dt.year == 2009]"
      ],
      "execution_count": 41,
      "outputs": []
    },
    {
      "cell_type": "code",
      "metadata": {
        "colab": {
          "base_uri": "https://localhost:8080/"
        },
        "id": "QDN-AJmxnRGR",
        "outputId": "c415436c-03e5-44a7-82f1-3eee6a11e00a"
      },
      "source": [
        "#Nome das colunas DataFrame => df_2009\n",
        "df_2009.columns"
      ],
      "execution_count": 42,
      "outputs": [
        {
          "output_type": "execute_result",
          "data": {
            "text/plain": [
              "Index(['Data Venda', 'Data Envio', 'Tempo Envio (dia)', 'ID Loja',\n",
              "       'Custo Unitário', 'Preço Unitário', 'Quantidade', 'Custo Total Produto',\n",
              "       'Valor Desconto', 'Valor Venda', 'Lucro liquido', 'Produto'],\n",
              "      dtype='object')"
            ]
          },
          "metadata": {},
          "execution_count": 42
        }
      ]
    },
    {
      "cell_type": "code",
      "metadata": {
        "id": "U4K4C8beneQn"
      },
      "source": [
        "#Renomear colunas ano 2008\n",
        "df_2008 = df_2008.rename(columns={'Quantidade':'Quantidade 2008', 'Custo Total Produto': 'Custo Total Produto 2008', 'Valor Desconto':'Valor Desconto 2008',\n",
        "                                  'Lucro liquido':'Lucro liquido 2008'})"
      ],
      "execution_count": 43,
      "outputs": []
    },
    {
      "cell_type": "code",
      "metadata": {
        "id": "eChDFS9MXfCC"
      },
      "source": [
        "#Renomear colunas ano 2009\n",
        "df_2009 = df_2009.rename(columns={'Quantidade':'Quantidade 2009', 'Custo Total Produto': 'Custo Total Produto 2009', 'Valor Desconto':'Valor Desconto 2009',\n",
        "                                  'Lucro liquido':'Lucro liquido 2009'})"
      ],
      "execution_count": 44,
      "outputs": []
    },
    {
      "cell_type": "code",
      "metadata": {
        "colab": {
          "base_uri": "https://localhost:8080/",
          "height": 311
        },
        "id": "spwUGT5aC3TK",
        "outputId": "132bf226-b5af-482d-f4a6-4a15eebeb336"
      },
      "source": [
        "#Comparação do \"Lucro liquido\" entre os anos de 2008 e 2009\n",
        "df.groupby(df[\"Data Venda\"].dt.year)[\"Lucro liquido\"].sum().plot.bar(color=\"red\", title=\"Lucro x Ano\")\n",
        "plt.xlabel(\"Ano\")\n",
        "plt.ylabel(\"Lucro liquido\");\n"
      ],
      "execution_count": 45,
      "outputs": [
        {
          "output_type": "display_data",
          "data": {
            "image/png": "[encoded data removed]",
            "text/plain": [
              "<Figure size 432x288 with 1 Axes>"
            ]
          },
          "metadata": {
            "needs_background": "light"
          }
        }
      ]
    },
    {
      "cell_type": "code",
      "metadata": {
        "colab": {
          "base_uri": "https://localhost:8080/",
          "height": 111
        },
        "id": "9bqHoEL_7ibH",
        "outputId": "0e42f192-dda7-4bc4-9869-1d55ae50707b"
      },
      "source": [
        "#Qual o valor do \"Lucro liquido\" entre os anos de 2008 e 2009?\n",
        "df.groupby(df[\"Data Venda\"].dt.year)[\"Lucro liquido\"].sum().reset_index()"
      ],
      "execution_count": 46,
      "outputs": [
        {
          "output_type": "execute_result",
          "data": {
            "text/html": [
              "<div>\n",
              "<style scoped>\n",
              "    .dataframe tbody tr th:only-of-type {\n",
              "        vertical-align: middle;\n",
              "    }\n",
              "\n",
              "    .dataframe tbody tr th {\n",
              "        vertical-align: top;\n",
              "    }\n",
              "\n",
              "    .dataframe thead th {\n",
              "        text-align: right;\n",
              "    }\n",
              "</style>\n",
              "<table border=\"1\" class=\"dataframe\">\n",
              "  <thead>\n",
              "    <tr style=\"text-align: right;\">\n",
              "      <th></th>\n",
              "      <th>Data Venda</th>\n",
              "      <th>Lucro liquido</th>\n",
              "    </tr>\n",
              "  </thead>\n",
              "  <tbody>\n",
              "    <tr>\n",
              "      <th>0</th>\n",
              "      <td>2008</td>\n",
              "      <td>1920077.63</td>\n",
              "    </tr>\n",
              "    <tr>\n",
              "      <th>1</th>\n",
              "      <td>2009</td>\n",
              "      <td>1577745.37</td>\n",
              "    </tr>\n",
              "  </tbody>\n",
              "</table>\n",
              "</div>"
            ],
            "text/plain": [
              "   Data Venda  Lucro liquido\n",
              "0        2008     1920077.63\n",
              "1        2009     1577745.37"
            ]
          },
          "metadata": {},
          "execution_count": 46
        }
      ]
    },
    {
      "cell_type": "code",
      "metadata": {
        "colab": {
          "base_uri": "https://localhost:8080/"
        },
        "id": "ldKY1jlT2TiG",
        "outputId": "3658ddae-65b1-4070-e665-173ce81c6857"
      },
      "source": [
        "#Analise do \"Lucro liquido\" (receita) nos anos 2008 e 2009\n",
        "deficit = round(df_2008[\"Lucro liquido 2008\"].sum() - df_2009[\"Lucro liquido 2009\"].sum(),2)\n",
        "print(f'Identificado déficit de R$:{deficit} entre os anos de 2008 e 2009.')"
      ],
      "execution_count": 47,
      "outputs": [
        {
          "output_type": "stream",
          "name": "stdout",
          "text": [
            "Identificado déficit de R$:342332.26 entre os anos de 2008 e 2009.\n"
          ]
        }
      ]
    },
    {
      "cell_type": "code",
      "metadata": {
        "colab": {
          "base_uri": "https://localhost:8080/",
          "height": 296
        },
        "id": "l6rU2B1DWAXy",
        "outputId": "371f55d0-5095-42f7-962d-922056924506"
      },
      "source": [
        "#Comparativo do lucro liquido dos anos 2008 e 2009 ao logo dos meses\n",
        "df_2008.groupby(df_2008[\"Data Venda\"].dt.month)[\"Lucro liquido 2008\"].sum().plot(color= \"blue\", marker = \"o\")\n",
        "df_2009.groupby(df_2009[\"Data Venda\"].dt.month)[\"Lucro liquido 2009\"].sum().plot(color= \"red\", title=\"Lucro liquido\", marker = \"o\")\n",
        "plt.xlabel(\"Progreção mês\")\n",
        "plt.ylabel(\"Lucro liquido\")\n",
        "plt.legend();"
      ],
      "execution_count": 74,
      "outputs": [
        {
          "output_type": "display_data",
          "data": {
            "image/png": "[encoded data removed]",
            "text/plain": [
              "<Figure size 432x288 with 1 Axes>"
            ]
          },
          "metadata": {
            "needs_background": "light"
          }
        }
      ]
    },
    {
      "cell_type": "code",
      "metadata": {
        "colab": {
          "base_uri": "https://localhost:8080/",
          "height": 311
        },
        "id": "VMnRlKFXD5ap",
        "outputId": "1549908e-9df5-4f95-8739-319899e236b2"
      },
      "source": [
        "#Comparativo dos descontos oferecido aos clientes nos anos de 2008 e 2009\n",
        "df.groupby(df[\"Data Venda\"].dt.year)[\"Valor Desconto\"].sum().plot.bar(title=\"Total de desconto\", color= \"red\")\n",
        "plt.xlabel(\"Ano\")\n",
        "plt.ylabel(\"Desconto\");"
      ],
      "execution_count": 48,
      "outputs": [
        {
          "output_type": "display_data",
          "data": {
            "image/png": "[encoded data removed]",
            "text/plain": [
              "<Figure size 432x288 with 1 Axes>"
            ]
          },
          "metadata": {
            "needs_background": "light"
          }
        }
      ]
    },
    {
      "cell_type": "code",
      "metadata": {
        "colab": {
          "base_uri": "https://localhost:8080/",
          "height": 111
        },
        "id": "bZ8-nDsQ3sOa",
        "outputId": "4e93ef6c-3283-4005-9cad-28bf817e3c86"
      },
      "source": [
        "#Qual o somaório dos descontos no ano?\n",
        "df.groupby(df[\"Data Venda\"].dt.year)[\"Valor Desconto\"].sum().reset_index()"
      ],
      "execution_count": 49,
      "outputs": [
        {
          "output_type": "execute_result",
          "data": {
            "text/html": [
              "<div>\n",
              "<style scoped>\n",
              "    .dataframe tbody tr th:only-of-type {\n",
              "        vertical-align: middle;\n",
              "    }\n",
              "\n",
              "    .dataframe tbody tr th {\n",
              "        vertical-align: top;\n",
              "    }\n",
              "\n",
              "    .dataframe thead th {\n",
              "        text-align: right;\n",
              "    }\n",
              "</style>\n",
              "<table border=\"1\" class=\"dataframe\">\n",
              "  <thead>\n",
              "    <tr style=\"text-align: right;\">\n",
              "      <th></th>\n",
              "      <th>Data Venda</th>\n",
              "      <th>Valor Desconto</th>\n",
              "    </tr>\n",
              "  </thead>\n",
              "  <tbody>\n",
              "    <tr>\n",
              "      <th>0</th>\n",
              "      <td>2008</td>\n",
              "      <td>292434.0190</td>\n",
              "    </tr>\n",
              "    <tr>\n",
              "      <th>1</th>\n",
              "      <td>2009</td>\n",
              "      <td>330533.4384</td>\n",
              "    </tr>\n",
              "  </tbody>\n",
              "</table>\n",
              "</div>"
            ],
            "text/plain": [
              "   Data Venda  Valor Desconto\n",
              "0        2008     292434.0190\n",
              "1        2009     330533.4384"
            ]
          },
          "metadata": {},
          "execution_count": 49
        }
      ]
    },
    {
      "cell_type": "code",
      "metadata": {
        "colab": {
          "base_uri": "https://localhost:8080/"
        },
        "id": "IZ0_tVbwEcQB",
        "outputId": "889fdf1e-09ce-42a1-ff58-1d5bb3237c82"
      },
      "source": [
        "#Analise dos descontos oferecidos nos anos de 2008 e 2009\n",
        "desconto = round(df_2009[\"Valor Desconto 2009\"].sum() - df_2008[\"Valor Desconto 2008\"].sum(),2)\n",
        "print(f'Aumento de desconto aos clientes em 2009 de R$:{desconto}')"
      ],
      "execution_count": 50,
      "outputs": [
        {
          "output_type": "stream",
          "name": "stdout",
          "text": [
            "Aumento de desconto aos clientes em 2009 de R$:38099.42\n"
          ]
        }
      ]
    },
    {
      "cell_type": "code",
      "metadata": {
        "colab": {
          "base_uri": "https://localhost:8080/",
          "height": 311
        },
        "id": "8XgkfgCdR_zK",
        "outputId": "800f1317-0e36-4ae1-b59e-428d1fceb1ef"
      },
      "source": [
        "#Compativo dos custos de compras nos anos 2008 e 2009\n",
        "df.groupby(df[\"Data Venda\"].dt.year)[\"Custo Total Produto\"].sum().plot.bar(title=\" Total custo dos produtos\")\n",
        "plt.xlabel(\"Ano\")\n",
        "plt.ylabel(\"Produto\");"
      ],
      "execution_count": 51,
      "outputs": [
        {
          "output_type": "display_data",
          "data": {
            "image/png": "[encoded data removed]",
            "text/plain": [
              "<Figure size 432x288 with 1 Axes>"
            ]
          },
          "metadata": {
            "needs_background": "light"
          }
        }
      ]
    },
    {
      "cell_type": "code",
      "metadata": {
        "colab": {
          "base_uri": "https://localhost:8080/",
          "height": 111
        },
        "id": "LqchjsR53zwE",
        "outputId": "79923e32-8f73-4149-d2f7-06c7438e7de0"
      },
      "source": [
        "#Qual o somaório custo total dos produtos entre os anos 2008 e 2009?\n",
        "df.groupby(df[\"Data Venda\"].dt.year)[\"Custo Total Produto\"].sum().reset_index()"
      ],
      "execution_count": 52,
      "outputs": [
        {
          "output_type": "execute_result",
          "data": {
            "text/html": [
              "<div>\n",
              "<style scoped>\n",
              "    .dataframe tbody tr th:only-of-type {\n",
              "        vertical-align: middle;\n",
              "    }\n",
              "\n",
              "    .dataframe tbody tr th {\n",
              "        vertical-align: top;\n",
              "    }\n",
              "\n",
              "    .dataframe thead th {\n",
              "        text-align: right;\n",
              "    }\n",
              "</style>\n",
              "<table border=\"1\" class=\"dataframe\">\n",
              "  <thead>\n",
              "    <tr style=\"text-align: right;\">\n",
              "      <th></th>\n",
              "      <th>Data Venda</th>\n",
              "      <th>Custo Total Produto</th>\n",
              "    </tr>\n",
              "  </thead>\n",
              "  <tbody>\n",
              "    <tr>\n",
              "      <th>0</th>\n",
              "      <td>2008</td>\n",
              "      <td>1267529.94</td>\n",
              "    </tr>\n",
              "    <tr>\n",
              "      <th>1</th>\n",
              "      <td>2009</td>\n",
              "      <td>1219253.11</td>\n",
              "    </tr>\n",
              "  </tbody>\n",
              "</table>\n",
              "</div>"
            ],
            "text/plain": [
              "   Data Venda  Custo Total Produto\n",
              "0        2008           1267529.94\n",
              "1        2009           1219253.11"
            ]
          },
          "metadata": {},
          "execution_count": 52
        }
      ]
    },
    {
      "cell_type": "code",
      "metadata": {
        "colab": {
          "base_uri": "https://localhost:8080/"
        },
        "id": "AoIUA_WrSSIR",
        "outputId": "538e20de-6078-4dcb-d16c-9ccc4d139b8c"
      },
      "source": [
        "#Analise do custo total dos produtos nos anos de 2008 e 2009\n",
        "compra = round(df_2009[\"Custo Total Produto 2009\"].sum() - df_2008[\"Custo Total Produto 2008\"].sum(),2)\n",
        "print(f'Redução de custo no valor da compra de R$:{abs(compra)}')"
      ],
      "execution_count": 53,
      "outputs": [
        {
          "output_type": "stream",
          "name": "stdout",
          "text": [
            "Redução de custo no valor da compra de R$:48276.83\n"
          ]
        }
      ]
    },
    {
      "cell_type": "code",
      "metadata": {
        "colab": {
          "base_uri": "https://localhost:8080/",
          "height": 311
        },
        "id": "435aRtDiX845",
        "outputId": "f6e1ad55-89c8-40fe-c0ec-964af85e854b"
      },
      "source": [
        "#Comparação de quantidade de produtos vendidos por ano\n",
        "df.groupby(df[\"Data Venda\"].dt.year)[\"Quantidade\"].sum().plot.bar(title=\"Quantidade de produtos vendidos\")\n",
        "plt.xlabel(\"Ano\")\n",
        "plt.ylabel(\"Quantidade\");"
      ],
      "execution_count": 126,
      "outputs": [
        {
          "output_type": "display_data",
          "data": {
            "image/png": "[encoded data removed]",
            "text/plain": [
              "<Figure size 432x288 with 1 Axes>"
            ]
          },
          "metadata": {
            "needs_background": "light"
          }
        }
      ]
    },
    {
      "cell_type": "code",
      "metadata": {
        "colab": {
          "base_uri": "https://localhost:8080/",
          "height": 111
        },
        "id": "G2JIwZK64PnL",
        "outputId": "cd917bd0-e52c-493f-d2e4-b843d5a70e23"
      },
      "source": [
        "#Qual a quantidade de produtos vendidos nos anos de 2008 e 2009?\n",
        "df.groupby(df[\"Data Venda\"].dt.year)[\"Quantidade\"].sum().reset_index()"
      ],
      "execution_count": 54,
      "outputs": [
        {
          "output_type": "execute_result",
          "data": {
            "text/html": [
              "<div>\n",
              "<style scoped>\n",
              "    .dataframe tbody tr th:only-of-type {\n",
              "        vertical-align: middle;\n",
              "    }\n",
              "\n",
              "    .dataframe tbody tr th {\n",
              "        vertical-align: top;\n",
              "    }\n",
              "\n",
              "    .dataframe thead th {\n",
              "        text-align: right;\n",
              "    }\n",
              "</style>\n",
              "<table border=\"1\" class=\"dataframe\">\n",
              "  <thead>\n",
              "    <tr style=\"text-align: right;\">\n",
              "      <th></th>\n",
              "      <th>Data Venda</th>\n",
              "      <th>Quantidade</th>\n",
              "    </tr>\n",
              "  </thead>\n",
              "  <tbody>\n",
              "    <tr>\n",
              "      <th>0</th>\n",
              "      <td>2008</td>\n",
              "      <td>18212</td>\n",
              "    </tr>\n",
              "    <tr>\n",
              "      <th>1</th>\n",
              "      <td>2009</td>\n",
              "      <td>38695</td>\n",
              "    </tr>\n",
              "  </tbody>\n",
              "</table>\n",
              "</div>"
            ],
            "text/plain": [
              "   Data Venda  Quantidade\n",
              "0        2008       18212\n",
              "1        2009       38695"
            ]
          },
          "metadata": {},
          "execution_count": 54
        }
      ]
    },
    {
      "cell_type": "code",
      "metadata": {
        "colab": {
          "base_uri": "https://localhost:8080/"
        },
        "id": "uo8lB6i9Y5Ki",
        "outputId": "d2e5331f-4aca-4277-de95-5ced0256e796"
      },
      "source": [
        "#Analise na quantidade de volume vendido nos anos de 2008 e 2009\n",
        "produto = round(df_2009[\"Quantidade 2009\"].sum() - df_2008[\"Quantidade 2008\"].sum(),2)\n",
        "print(f'Aumento na quantidade de produtos vendidos {produto} unidades')"
      ],
      "execution_count": 55,
      "outputs": [
        {
          "output_type": "stream",
          "name": "stdout",
          "text": [
            "Aumento na quantidade de produtos vendidos 20483 unidades\n"
          ]
        }
      ]
    },
    {
      "cell_type": "code",
      "metadata": {
        "colab": {
          "base_uri": "https://localhost:8080/",
          "height": 940
        },
        "id": "EHCVrYMb2MEF",
        "outputId": "0750a958-fb97-469d-f6ba-f4f08d18b767"
      },
      "source": [
        "#Descrininação de Loja | Prudoto | Quantidade | Lucro liqido no ano de 2008\n",
        "tabela_venda_2008 = df_2008.groupby([\"ID Loja\",\"Produto\"])[\"Quantidade 2008\",\"Lucro liquido 2008\"].sum().reset_index()\n",
        "tabela_venda_2008"
      ],
      "execution_count": 56,
      "outputs": [
        {
          "output_type": "stream",
          "name": "stderr",
          "text": [
            "/usr/local/lib/python3.7/dist-packages/ipykernel_launcher.py:2: FutureWarning: Indexing with multiple keys (implicitly converted to a tuple of keys) will be deprecated, use a list instead.\n",
            "  \n"
          ]
        },
        {
          "output_type": "execute_result",
          "data": {
            "text/html": [
              "<div>\n",
              "<style scoped>\n",
              "    .dataframe tbody tr th:only-of-type {\n",
              "        vertical-align: middle;\n",
              "    }\n",
              "\n",
              "    .dataframe tbody tr th {\n",
              "        vertical-align: top;\n",
              "    }\n",
              "\n",
              "    .dataframe thead th {\n",
              "        text-align: right;\n",
              "    }\n",
              "</style>\n",
              "<table border=\"1\" class=\"dataframe\">\n",
              "  <thead>\n",
              "    <tr style=\"text-align: right;\">\n",
              "      <th></th>\n",
              "      <th>ID Loja</th>\n",
              "      <th>Produto</th>\n",
              "      <th>Quantidade 2008</th>\n",
              "      <th>Lucro liquido 2008</th>\n",
              "    </tr>\n",
              "  </thead>\n",
              "  <tbody>\n",
              "    <tr>\n",
              "      <th>0</th>\n",
              "      <td>199</td>\n",
              "      <td>Adventure Works Laptop15.4W M1548 Black</td>\n",
              "      <td>113</td>\n",
              "      <td>37964.36</td>\n",
              "    </tr>\n",
              "    <tr>\n",
              "      <th>1</th>\n",
              "      <td>199</td>\n",
              "      <td>Adventure Works Laptop15.4W M1548 Red</td>\n",
              "      <td>158</td>\n",
              "      <td>54758.56</td>\n",
              "    </tr>\n",
              "    <tr>\n",
              "      <th>2</th>\n",
              "      <td>199</td>\n",
              "      <td>Fabrikam Trendsetter 1/3'' 8.5mm X200 Black</td>\n",
              "      <td>245</td>\n",
              "      <td>151874.25</td>\n",
              "    </tr>\n",
              "    <tr>\n",
              "      <th>3</th>\n",
              "      <td>199</td>\n",
              "      <td>Fabrikam Trendsetter 1/3'' 8.5mm X200 Grey</td>\n",
              "      <td>191</td>\n",
              "      <td>113589.74</td>\n",
              "    </tr>\n",
              "    <tr>\n",
              "      <th>4</th>\n",
              "      <td>199</td>\n",
              "      <td>Fabrikam Trendsetter 1/3'' 8.5mm X200 White</td>\n",
              "      <td>127</td>\n",
              "      <td>75869.98</td>\n",
              "    </tr>\n",
              "    <tr>\n",
              "      <th>5</th>\n",
              "      <td>199</td>\n",
              "      <td>Fabrikam Trendsetter 2/3'' 17mm X100 Black</td>\n",
              "      <td>255</td>\n",
              "      <td>151032.05</td>\n",
              "    </tr>\n",
              "    <tr>\n",
              "      <th>6</th>\n",
              "      <td>199</td>\n",
              "      <td>Fabrikam Trendsetter 2/3'' 17mm X100 Grey</td>\n",
              "      <td>239</td>\n",
              "      <td>134471.09</td>\n",
              "    </tr>\n",
              "    <tr>\n",
              "      <th>7</th>\n",
              "      <td>199</td>\n",
              "      <td>Headphone Adapter for Contoso Phone E130 Silver</td>\n",
              "      <td>2256</td>\n",
              "      <td>8273.17</td>\n",
              "    </tr>\n",
              "    <tr>\n",
              "      <th>8</th>\n",
              "      <td>199</td>\n",
              "      <td>Headphone Adapter for Contoso Phone E130 White</td>\n",
              "      <td>2836</td>\n",
              "      <td>10707.56</td>\n",
              "    </tr>\n",
              "    <tr>\n",
              "      <th>9</th>\n",
              "      <td>306</td>\n",
              "      <td>Adventure Works Laptop15.4W M1548 Black</td>\n",
              "      <td>130</td>\n",
              "      <td>44211.98</td>\n",
              "    </tr>\n",
              "    <tr>\n",
              "      <th>10</th>\n",
              "      <td>306</td>\n",
              "      <td>Adventure Works Laptop15.4W M1548 Red</td>\n",
              "      <td>136</td>\n",
              "      <td>50557.04</td>\n",
              "    </tr>\n",
              "    <tr>\n",
              "      <th>11</th>\n",
              "      <td>306</td>\n",
              "      <td>Fabrikam Trendsetter 1/3'' 8.5mm X200 Black</td>\n",
              "      <td>154</td>\n",
              "      <td>89207.22</td>\n",
              "    </tr>\n",
              "    <tr>\n",
              "      <th>12</th>\n",
              "      <td>306</td>\n",
              "      <td>Fabrikam Trendsetter 1/3'' 8.5mm X200 Grey</td>\n",
              "      <td>167</td>\n",
              "      <td>105507.68</td>\n",
              "    </tr>\n",
              "    <tr>\n",
              "      <th>13</th>\n",
              "      <td>306</td>\n",
              "      <td>Fabrikam Trendsetter 1/3'' 8.5mm X200 White</td>\n",
              "      <td>169</td>\n",
              "      <td>96463.16</td>\n",
              "    </tr>\n",
              "    <tr>\n",
              "      <th>14</th>\n",
              "      <td>306</td>\n",
              "      <td>Fabrikam Trendsetter 2/3'' 17mm X100 Black</td>\n",
              "      <td>143</td>\n",
              "      <td>81949.33</td>\n",
              "    </tr>\n",
              "    <tr>\n",
              "      <th>15</th>\n",
              "      <td>306</td>\n",
              "      <td>Fabrikam Trendsetter 2/3'' 17mm X100 Grey</td>\n",
              "      <td>190</td>\n",
              "      <td>110886.90</td>\n",
              "    </tr>\n",
              "    <tr>\n",
              "      <th>16</th>\n",
              "      <td>306</td>\n",
              "      <td>Headphone Adapter for Contoso Phone E130 Silver</td>\n",
              "      <td>2065</td>\n",
              "      <td>9014.60</td>\n",
              "    </tr>\n",
              "    <tr>\n",
              "      <th>17</th>\n",
              "      <td>306</td>\n",
              "      <td>Headphone Adapter for Contoso Phone E130 White</td>\n",
              "      <td>1380</td>\n",
              "      <td>5239.54</td>\n",
              "    </tr>\n",
              "    <tr>\n",
              "      <th>18</th>\n",
              "      <td>307</td>\n",
              "      <td>Adventure Works Laptop15.4W M1548 Black</td>\n",
              "      <td>213</td>\n",
              "      <td>69241.86</td>\n",
              "    </tr>\n",
              "    <tr>\n",
              "      <th>19</th>\n",
              "      <td>307</td>\n",
              "      <td>Adventure Works Laptop15.4W M1548 Red</td>\n",
              "      <td>158</td>\n",
              "      <td>49907.36</td>\n",
              "    </tr>\n",
              "    <tr>\n",
              "      <th>20</th>\n",
              "      <td>307</td>\n",
              "      <td>Fabrikam Trendsetter 1/3'' 8.5mm X200 Black</td>\n",
              "      <td>183</td>\n",
              "      <td>100467.63</td>\n",
              "    </tr>\n",
              "    <tr>\n",
              "      <th>21</th>\n",
              "      <td>307</td>\n",
              "      <td>Fabrikam Trendsetter 1/3'' 8.5mm X200 Grey</td>\n",
              "      <td>190</td>\n",
              "      <td>116714.80</td>\n",
              "    </tr>\n",
              "    <tr>\n",
              "      <th>22</th>\n",
              "      <td>307</td>\n",
              "      <td>Fabrikam Trendsetter 1/3'' 8.5mm X200 White</td>\n",
              "      <td>98</td>\n",
              "      <td>59810.52</td>\n",
              "    </tr>\n",
              "    <tr>\n",
              "      <th>23</th>\n",
              "      <td>307</td>\n",
              "      <td>Fabrikam Trendsetter 2/3'' 17mm X100 Black</td>\n",
              "      <td>119</td>\n",
              "      <td>65535.89</td>\n",
              "    </tr>\n",
              "    <tr>\n",
              "      <th>24</th>\n",
              "      <td>307</td>\n",
              "      <td>Fabrikam Trendsetter 2/3'' 17mm X100 Grey</td>\n",
              "      <td>201</td>\n",
              "      <td>103640.31</td>\n",
              "    </tr>\n",
              "    <tr>\n",
              "      <th>25</th>\n",
              "      <td>307</td>\n",
              "      <td>Headphone Adapter for Contoso Phone E130 Silver</td>\n",
              "      <td>3012</td>\n",
              "      <td>11647.90</td>\n",
              "    </tr>\n",
              "    <tr>\n",
              "      <th>26</th>\n",
              "      <td>307</td>\n",
              "      <td>Headphone Adapter for Contoso Phone E130 White</td>\n",
              "      <td>3084</td>\n",
              "      <td>11533.15</td>\n",
              "    </tr>\n",
              "  </tbody>\n",
              "</table>\n",
              "</div>"
            ],
            "text/plain": [
              "    ID Loja  ... Lucro liquido 2008\n",
              "0       199  ...           37964.36\n",
              "1       199  ...           54758.56\n",
              "2       199  ...          151874.25\n",
              "3       199  ...          113589.74\n",
              "4       199  ...           75869.98\n",
              "5       199  ...          151032.05\n",
              "6       199  ...          134471.09\n",
              "7       199  ...            8273.17\n",
              "8       199  ...           10707.56\n",
              "9       306  ...           44211.98\n",
              "10      306  ...           50557.04\n",
              "11      306  ...           89207.22\n",
              "12      306  ...          105507.68\n",
              "13      306  ...           96463.16\n",
              "14      306  ...           81949.33\n",
              "15      306  ...          110886.90\n",
              "16      306  ...            9014.60\n",
              "17      306  ...            5239.54\n",
              "18      307  ...           69241.86\n",
              "19      307  ...           49907.36\n",
              "20      307  ...          100467.63\n",
              "21      307  ...          116714.80\n",
              "22      307  ...           59810.52\n",
              "23      307  ...           65535.89\n",
              "24      307  ...          103640.31\n",
              "25      307  ...           11647.90\n",
              "26      307  ...           11533.15\n",
              "\n",
              "[27 rows x 4 columns]"
            ]
          },
          "metadata": {},
          "execution_count": 56
        }
      ]
    },
    {
      "cell_type": "code",
      "metadata": {
        "colab": {
          "base_uri": "https://localhost:8080/",
          "height": 940
        },
        "id": "-XAGLGeq4Fv_",
        "outputId": "287a1edc-5497-47ba-8ad1-64b13033987e"
      },
      "source": [
        "#Descrininação de Loja | Prudoto | Quantidade | Lucro liqido no ano de 2009\n",
        "tabela_venda_2009 = df_2009.groupby([\"ID Loja\",\"Produto\"])[\"Quantidade 2009\",\"Lucro liquido 2009\"].sum().reset_index()\n",
        "tabela_venda_2009"
      ],
      "execution_count": 57,
      "outputs": [
        {
          "output_type": "stream",
          "name": "stderr",
          "text": [
            "/usr/local/lib/python3.7/dist-packages/ipykernel_launcher.py:2: FutureWarning: Indexing with multiple keys (implicitly converted to a tuple of keys) will be deprecated, use a list instead.\n",
            "  \n"
          ]
        },
        {
          "output_type": "execute_result",
          "data": {
            "text/html": [
              "<div>\n",
              "<style scoped>\n",
              "    .dataframe tbody tr th:only-of-type {\n",
              "        vertical-align: middle;\n",
              "    }\n",
              "\n",
              "    .dataframe tbody tr th {\n",
              "        vertical-align: top;\n",
              "    }\n",
              "\n",
              "    .dataframe thead th {\n",
              "        text-align: right;\n",
              "    }\n",
              "</style>\n",
              "<table border=\"1\" class=\"dataframe\">\n",
              "  <thead>\n",
              "    <tr style=\"text-align: right;\">\n",
              "      <th></th>\n",
              "      <th>ID Loja</th>\n",
              "      <th>Produto</th>\n",
              "      <th>Quantidade 2009</th>\n",
              "      <th>Lucro liquido 2009</th>\n",
              "    </tr>\n",
              "  </thead>\n",
              "  <tbody>\n",
              "    <tr>\n",
              "      <th>0</th>\n",
              "      <td>199</td>\n",
              "      <td>Adventure Works Laptop15.4W M1548 Black</td>\n",
              "      <td>211</td>\n",
              "      <td>72705.72</td>\n",
              "    </tr>\n",
              "    <tr>\n",
              "      <th>1</th>\n",
              "      <td>199</td>\n",
              "      <td>Adventure Works Laptop15.4W M1548 Red</td>\n",
              "      <td>155</td>\n",
              "      <td>51407.90</td>\n",
              "    </tr>\n",
              "    <tr>\n",
              "      <th>2</th>\n",
              "      <td>199</td>\n",
              "      <td>Fabrikam Trendsetter 1/3'' 8.5mm X200 Black</td>\n",
              "      <td>114</td>\n",
              "      <td>60668.64</td>\n",
              "    </tr>\n",
              "    <tr>\n",
              "      <th>3</th>\n",
              "      <td>199</td>\n",
              "      <td>Fabrikam Trendsetter 1/3'' 8.5mm X200 Grey</td>\n",
              "      <td>132</td>\n",
              "      <td>73418.28</td>\n",
              "    </tr>\n",
              "    <tr>\n",
              "      <th>4</th>\n",
              "      <td>199</td>\n",
              "      <td>Fabrikam Trendsetter 1/3'' 8.5mm X200 White</td>\n",
              "      <td>102</td>\n",
              "      <td>58787.28</td>\n",
              "    </tr>\n",
              "    <tr>\n",
              "      <th>5</th>\n",
              "      <td>199</td>\n",
              "      <td>Fabrikam Trendsetter 2/3'' 17mm X100 Black</td>\n",
              "      <td>178</td>\n",
              "      <td>96702.18</td>\n",
              "    </tr>\n",
              "    <tr>\n",
              "      <th>6</th>\n",
              "      <td>199</td>\n",
              "      <td>Fabrikam Trendsetter 2/3'' 17mm X100 Grey</td>\n",
              "      <td>168</td>\n",
              "      <td>94069.08</td>\n",
              "    </tr>\n",
              "    <tr>\n",
              "      <th>7</th>\n",
              "      <td>199</td>\n",
              "      <td>Headphone Adapter for Contoso Phone E130 Silver</td>\n",
              "      <td>5635</td>\n",
              "      <td>20356.78</td>\n",
              "    </tr>\n",
              "    <tr>\n",
              "      <th>8</th>\n",
              "      <td>199</td>\n",
              "      <td>Headphone Adapter for Contoso Phone E130 White</td>\n",
              "      <td>7004</td>\n",
              "      <td>28061.87</td>\n",
              "    </tr>\n",
              "    <tr>\n",
              "      <th>9</th>\n",
              "      <td>306</td>\n",
              "      <td>Adventure Works Laptop15.4W M1548 Black</td>\n",
              "      <td>223</td>\n",
              "      <td>76481.76</td>\n",
              "    </tr>\n",
              "    <tr>\n",
              "      <th>10</th>\n",
              "      <td>306</td>\n",
              "      <td>Adventure Works Laptop15.4W M1548 Red</td>\n",
              "      <td>184</td>\n",
              "      <td>59104.50</td>\n",
              "    </tr>\n",
              "    <tr>\n",
              "      <th>11</th>\n",
              "      <td>306</td>\n",
              "      <td>Fabrikam Trendsetter 1/3'' 8.5mm X200 Black</td>\n",
              "      <td>84</td>\n",
              "      <td>50608.35</td>\n",
              "    </tr>\n",
              "    <tr>\n",
              "      <th>12</th>\n",
              "      <td>306</td>\n",
              "      <td>Fabrikam Trendsetter 1/3'' 8.5mm X200 Grey</td>\n",
              "      <td>60</td>\n",
              "      <td>35549.40</td>\n",
              "    </tr>\n",
              "    <tr>\n",
              "      <th>13</th>\n",
              "      <td>306</td>\n",
              "      <td>Fabrikam Trendsetter 1/3'' 8.5mm X200 White</td>\n",
              "      <td>125</td>\n",
              "      <td>69704.98</td>\n",
              "    </tr>\n",
              "    <tr>\n",
              "      <th>14</th>\n",
              "      <td>306</td>\n",
              "      <td>Fabrikam Trendsetter 2/3'' 17mm X100 Black</td>\n",
              "      <td>110</td>\n",
              "      <td>60676.90</td>\n",
              "    </tr>\n",
              "    <tr>\n",
              "      <th>15</th>\n",
              "      <td>306</td>\n",
              "      <td>Fabrikam Trendsetter 2/3'' 17mm X100 Grey</td>\n",
              "      <td>79</td>\n",
              "      <td>46428.49</td>\n",
              "    </tr>\n",
              "    <tr>\n",
              "      <th>16</th>\n",
              "      <td>306</td>\n",
              "      <td>Headphone Adapter for Contoso Phone E130 Silver</td>\n",
              "      <td>4416</td>\n",
              "      <td>16814.40</td>\n",
              "    </tr>\n",
              "    <tr>\n",
              "      <th>17</th>\n",
              "      <td>306</td>\n",
              "      <td>Headphone Adapter for Contoso Phone E130 White</td>\n",
              "      <td>2400</td>\n",
              "      <td>8086.86</td>\n",
              "    </tr>\n",
              "    <tr>\n",
              "      <th>18</th>\n",
              "      <td>307</td>\n",
              "      <td>Adventure Works Laptop15.4W M1548 Black</td>\n",
              "      <td>199</td>\n",
              "      <td>66579.88</td>\n",
              "    </tr>\n",
              "    <tr>\n",
              "      <th>19</th>\n",
              "      <td>307</td>\n",
              "      <td>Adventure Works Laptop15.4W M1548 Red</td>\n",
              "      <td>256</td>\n",
              "      <td>79115.32</td>\n",
              "    </tr>\n",
              "    <tr>\n",
              "      <th>20</th>\n",
              "      <td>307</td>\n",
              "      <td>Fabrikam Trendsetter 1/3'' 8.5mm X200 Black</td>\n",
              "      <td>104</td>\n",
              "      <td>54388.14</td>\n",
              "    </tr>\n",
              "    <tr>\n",
              "      <th>21</th>\n",
              "      <td>307</td>\n",
              "      <td>Fabrikam Trendsetter 1/3'' 8.5mm X200 Grey</td>\n",
              "      <td>105</td>\n",
              "      <td>57146.60</td>\n",
              "    </tr>\n",
              "    <tr>\n",
              "      <th>22</th>\n",
              "      <td>307</td>\n",
              "      <td>Fabrikam Trendsetter 1/3'' 8.5mm X200 White</td>\n",
              "      <td>168</td>\n",
              "      <td>92502.42</td>\n",
              "    </tr>\n",
              "    <tr>\n",
              "      <th>23</th>\n",
              "      <td>307</td>\n",
              "      <td>Fabrikam Trendsetter 2/3'' 17mm X100 Black</td>\n",
              "      <td>121</td>\n",
              "      <td>64837.51</td>\n",
              "    </tr>\n",
              "    <tr>\n",
              "      <th>24</th>\n",
              "      <td>307</td>\n",
              "      <td>Fabrikam Trendsetter 2/3'' 17mm X100 Grey</td>\n",
              "      <td>210</td>\n",
              "      <td>118603.10</td>\n",
              "    </tr>\n",
              "    <tr>\n",
              "      <th>25</th>\n",
              "      <td>307</td>\n",
              "      <td>Headphone Adapter for Contoso Phone E130 Silver</td>\n",
              "      <td>7848</td>\n",
              "      <td>32053.61</td>\n",
              "    </tr>\n",
              "    <tr>\n",
              "      <th>26</th>\n",
              "      <td>307</td>\n",
              "      <td>Headphone Adapter for Contoso Phone E130 White</td>\n",
              "      <td>8304</td>\n",
              "      <td>32885.42</td>\n",
              "    </tr>\n",
              "  </tbody>\n",
              "</table>\n",
              "</div>"
            ],
            "text/plain": [
              "    ID Loja  ... Lucro liquido 2009\n",
              "0       199  ...           72705.72\n",
              "1       199  ...           51407.90\n",
              "2       199  ...           60668.64\n",
              "3       199  ...           73418.28\n",
              "4       199  ...           58787.28\n",
              "5       199  ...           96702.18\n",
              "6       199  ...           94069.08\n",
              "7       199  ...           20356.78\n",
              "8       199  ...           28061.87\n",
              "9       306  ...           76481.76\n",
              "10      306  ...           59104.50\n",
              "11      306  ...           50608.35\n",
              "12      306  ...           35549.40\n",
              "13      306  ...           69704.98\n",
              "14      306  ...           60676.90\n",
              "15      306  ...           46428.49\n",
              "16      306  ...           16814.40\n",
              "17      306  ...            8086.86\n",
              "18      307  ...           66579.88\n",
              "19      307  ...           79115.32\n",
              "20      307  ...           54388.14\n",
              "21      307  ...           57146.60\n",
              "22      307  ...           92502.42\n",
              "23      307  ...           64837.51\n",
              "24      307  ...          118603.10\n",
              "25      307  ...           32053.61\n",
              "26      307  ...           32885.42\n",
              "\n",
              "[27 rows x 4 columns]"
            ]
          },
          "metadata": {},
          "execution_count": 57
        }
      ]
    },
    {
      "cell_type": "code",
      "metadata": {
        "colab": {
          "base_uri": "https://localhost:8080/",
          "height": 311
        },
        "id": "rxZ451sJAodX",
        "outputId": "e9f3124c-1cdb-4420-fe5d-b02b1d4bde80"
      },
      "source": [
        "#Comparativo no números de vendas de 2008 e 2009\n",
        "df.groupby(df[\"Data Venda\"].dt.year)[\"Lucro liquido\"].sum().plot.bar(title=\"Número de vendas\", color = 'red')\n",
        "plt.xlabel(\"Ano\")\n",
        "plt.ylabel(\"Total de número de vendas\");"
      ],
      "execution_count": 58,
      "outputs": [
        {
          "output_type": "display_data",
          "data": {
            "image/png": "[encoded data removed]",
            "text/plain": [
              "<Figure size 432x288 with 1 Axes>"
            ]
          },
          "metadata": {
            "needs_background": "light"
          }
        }
      ]
    },
    {
      "cell_type": "code",
      "metadata": {
        "colab": {
          "base_uri": "https://localhost:8080/"
        },
        "id": "SIusrjdT_hoC",
        "outputId": "65b826ea-0067-4d58-fa5e-1b0bbb01640f"
      },
      "source": [
        "#Analise de vendas\n",
        "n_vendas2008 = df_2008['Data Venda'].count()\n",
        "n_vendas2009 = df_2009['Data Venda'].count()\n",
        "print(f'Números de vesdas ano 2008 = {n_vendas2008}')\n",
        "print(f'Números de vesdas ano 2009 = {n_vendas2009}')\n",
        "print()\n",
        "print(f'Redução de {n_vendas2008 - n_vendas2009} número de vendas no ano de 2009')"
      ],
      "execution_count": 59,
      "outputs": [
        {
          "output_type": "stream",
          "name": "stdout",
          "text": [
            "Números de vesdas ano 2008 = 469\n",
            "Números de vesdas ano 2009 = 435\n",
            "\n",
            "Redução de 34 número de vendas no ano de 2009\n"
          ]
        }
      ]
    },
    {
      "cell_type": "code",
      "metadata": {
        "colab": {
          "base_uri": "https://localhost:8080/"
        },
        "id": "5O37mbk_c0f5",
        "outputId": "ba8171e3-926a-4ed3-94d8-7108f0f1101f"
      },
      "source": [
        "#Total de vendas\n",
        "n_vendas2008 + n_vendas2009 "
      ],
      "execution_count": 60,
      "outputs": [
        {
          "output_type": "execute_result",
          "data": {
            "text/plain": [
              "904"
            ]
          },
          "metadata": {},
          "execution_count": 60
        }
      ]
    },
    {
      "cell_type": "code",
      "metadata": {
        "colab": {
          "base_uri": "https://localhost:8080/"
        },
        "id": "yDN1YWa--f_k",
        "outputId": "814e63c2-4417-446e-e5ab-89189a689c72"
      },
      "source": [
        "#Total de vendas\n",
        "df['Data Venda'].count()"
      ],
      "execution_count": 61,
      "outputs": [
        {
          "output_type": "execute_result",
          "data": {
            "text/plain": [
              "904"
            ]
          },
          "metadata": {},
          "execution_count": 61
        }
      ]
    }
  ]
}